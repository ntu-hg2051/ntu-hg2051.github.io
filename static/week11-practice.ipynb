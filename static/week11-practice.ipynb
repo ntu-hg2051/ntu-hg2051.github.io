{
 "cells": [
  {
   "cell_type": "markdown",
   "metadata": {},
   "source": [
    "# Week 11\n",
    "\n",
    "This week covers supervised classification.\n",
    "\n",
    "Overview:\n",
    "\n",
    "* [**Supervised Classification**](#Supervised-Classification)\n",
    "* [**Evaluation**](#Evaluation)\n",
    "* [**Decision Trees**](#Decision-Trees)\n",
    "\n"
   ]
  },
  {
   "cell_type": "markdown",
   "metadata": {},
   "source": [
    "## Machine Learning\n",
    "\n",
    "You can get a program to make decisions and act intelligently based on its inputs using programming constructs like conditional expressions, loops, etc., but it is often infeasible to construct programs for large, complicated, or ambiguous tasks. Machine Learning (ML) is how you can get computers to respond to inputs without hard-coded rules by learning from examples. The programmer's job is thus to teach the program how to learn from examples it is given."
   ]
  },
  {
   "cell_type": "markdown",
   "metadata": {},
   "source": [
    "## Supervised Classification\n",
    "\n",
    "Supervised classification is a kind of machine learning where examples contain the correct labels that you want the system to predict. The system then extracts features from the examples and builds a model that helps it infer the correct label given the features. Then, when encountering a new, unlabeled instance, it guesses the likely label based on the instance's feature similarity to other examples."
   ]
  },
  {
   "cell_type": "markdown",
   "metadata": {},
   "source": [
    "### Feature Extraction\n",
    "\n",
    "Given an instance, you need to produce features that the system can learn from. Good features are highly predictive of certain labels while excluding the other labels. Sometimes simple features work well, such as \"word ends in `ed`\", and other times complex features are more distinguishing, such as \"word ends in `ed` and previous word is tagged `MD`\".\n",
    "\n",
    "Write a feature extraction function for classifying names as male or female:"
   ]
  },
  {
   "cell_type": "code",
   "execution_count": 25,
   "metadata": {},
   "outputs": [
    {
     "output_type": "stream",
     "name": "stdout",
     "text": [
      "{'last_letter=l': True, 'first_letter=M': True, 'last_two_letters=el': True}\n{'last_letter=e': True, 'first_letter=M': True, 'last_two_letters=le': True}\n{'last_letter=s': True, 'first_letter=F': True, 'last_two_letters=is': True}\n{'last_letter=s': True, 'first_letter=F': True, 'last_two_letters=es': True}\n"
     ]
    }
   ],
   "source": [
    "def gender_features(name):\n",
    "    feats = {\n",
    "        f'last_letter={name[-1]}': True,\n",
    "        f'first_letter={name[0]}': True,\n",
    "        f'last_two_letters={name[-2:]}': True\n",
    "        }\n",
    "    return feats\n",
    "\n",
    "print(gender_features('Michael'))\n",
    "print(gender_features('Michelle'))\n",
    "print(gender_features('Francis'))\n",
    "print(gender_features('Frances'))"
   ]
  },
  {
   "cell_type": "markdown",
   "metadata": {},
   "source": [
    "Now try it out with a Naive Bayes classifier. First load some data:"
   ]
  },
  {
   "cell_type": "code",
   "execution_count": 30,
   "metadata": {},
   "outputs": [],
   "source": [
    "import random\n",
    "from nltk.corpus import names\n",
    "\n",
    "labeled_names = (\n",
    "    [(name, 'male') for name in names.words('male.txt')]\n",
    "    + [(name, 'female') for name in names.words('female.txt')]\n",
    ")\n",
    "random.shuffle(labeled_names)  # why do this? (hint: take a look at the next step)"
   ]
  },
  {
   "cell_type": "code",
   "execution_count": 31,
   "metadata": {},
   "outputs": [
    {
     "output_type": "execute_result",
     "data": {
      "text/plain": [
       "('Kellyann', 'female')"
      ]
     },
     "metadata": {},
     "execution_count": 31
    }
   ],
   "source": [
    "labeled_names[0]"
   ]
  },
  {
   "cell_type": "markdown",
   "metadata": {},
   "source": [
    "Now create training and test splits (set aside 10% of the data for testing data)"
   ]
  },
  {
   "cell_type": "code",
   "execution_count": 32,
   "metadata": {},
   "outputs": [
    {
     "output_type": "stream",
     "name": "stdout",
     "text": [
      "test 794 male: 267 female: 527\n",
      "train 7150 male: 2676 female: 4474\n"
     ]
    }
   ],
   "source": [
    "index = int(1/10 * len(labeled_names))  # TODO: find the index that splits 1/10 of the data\n",
    "test_set = labeled_names[:index]  # TODO: use index and labeled_names to get 1/10 of the data\n",
    "train_set = labeled_names[index:]  # TODO: use index and labeled_names to get 9/10 of the data\n",
    "print('test', len(test_set),\n",
    "      'male:', sum(1 for _, label in test_set if label == 'male'),\n",
    "      'female:', sum(1 for _, label in test_set if label == 'female'))\n",
    "print('train', len(train_set),\n",
    "      'male:', sum(1 for pair in train_set if pair[1] == 'male'),\n",
    "      'female:', sum(1 for _, label in train_set if label == 'female'))"
   ]
  },
  {
   "cell_type": "code",
   "execution_count": 35,
   "metadata": {},
   "outputs": [
    {
     "output_type": "execute_result",
     "data": {
      "text/plain": [
       "{'last_letter=g': True, 'first_letter=L': True, 'last_two_letters=ig': True}"
      ]
     },
     "metadata": {},
     "execution_count": 35
    }
   ],
   "source": [
    "# TODO: inspect the train set, try out gender_features() on an instance, etc.\n",
    "train_set[0]\n",
    "gender_features(train_set[0][0])"
   ]
  },
  {
   "cell_type": "code",
   "execution_count": 40,
   "metadata": {},
   "outputs": [],
   "source": [
    "train = [(gender_features(name), label) for name, label in train_set]  # TODO: compute gender_features for each (name, label) in train_set, pair result with label\n",
    "test = [(gender_features(name), label) for name, label in test_set]  # TODO: do the same for the test set"
   ]
  },
  {
   "cell_type": "code",
   "execution_count": 41,
   "metadata": {},
   "outputs": [],
   "source": [
    "import nltk\n",
    "classifier = nltk.NaiveBayesClassifier.train(train)  # Train a NB classifier with the training data"
   ]
  },
  {
   "cell_type": "code",
   "execution_count": 42,
   "metadata": {},
   "outputs": [
    {
     "output_type": "stream",
     "name": "stdout",
     "text": [
      "male\nfemale\nmale\nmale\n\n0.792191435768262\n"
     ]
    }
   ],
   "source": [
    "print(classifier.classify(gender_features('Michael')))\n",
    "print(classifier.classify(gender_features('Michelle')))\n",
    "print(classifier.classify(gender_features('Francis')))\n",
    "print(classifier.classify(gender_features('Frances')))\n",
    "print()\n",
    "print(nltk.classify.accuracy(classifier, test))"
   ]
  },
  {
   "cell_type": "markdown",
   "metadata": {},
   "source": [
    "#### Gender identification for Japanese\n",
    "\n",
    "Now do the same for Japanese names. The ENAMDICT file contains over 100,000 Japanese names, annotated as (m) for male and (f) for female (and some others for unspecied, family names, etc., which we will ignore). First download the file from here: http://compling.hss.ntu.edu.sg/courses/hg2051/code/enamdict"
   ]
  },
  {
   "cell_type": "code",
   "execution_count": 43,
   "metadata": {},
   "outputs": [
    {
     "output_type": "stream",
     "name": "stdout",
     "text": [
      "done\n"
     ]
    }
   ],
   "source": [
    "from urllib import request\n",
    "raw_data = request.urlopen('http://compling.hss.ntu.edu.sg/courses/hg2051/code/enamdict').read()\n",
    "print('done')"
   ]
  },
  {
   "cell_type": "markdown",
   "metadata": {},
   "source": [
    "And decode from UTF-8. We will need to parse this file (probably with regular expressions) in order to generate (name, label) pairs. So after decoding, inspect the data to get an idea of how to parse it:"
   ]
  },
  {
   "cell_type": "code",
   "execution_count": 61,
   "metadata": {},
   "outputs": [
    {
     "output_type": "stream",
     "name": "stdout",
     "text": [
      "？？？？ /ENAMDICT - Japanese Proper Name Dictionary File/Copyright Electronic Dictionary Research & Development Group, Monash University, 2007/Created: 2010-04-06/\nゝ泉 [ちゅせん] /Chusen (g)/\n〆 [しめ] /Shime (f)/\n〆ヱ [しめえ] /Shimee (f)/\n〆子 [しめこ] /Shimeko (f)/\n〆治 [しめじ] /Shimeji (g)/\n〆代 [しめよ] /Shimeyo (f)/\n〆谷 [しめたに] /Shimetani (s)/\n〆木 [しめき] /Shimeki (s)/\n〆野 [しめの] /Shimeno (s)/\n〆祐 [しめゆう] /Shimeyuu (g)/\n２ちゃんねる [にちゃんねる] /(c) 2channel (Japanese online forum)/\n３Ｍ [スリーエム] /(c) 3M/\nＦＣ東京 [エフシーとうきょう] /(o) F.C. Tokyo (Japanese pro soccer team)/\nＩＢＭ [アイビーエム] /(c) IBM/\nＩＳＯ [アイエスオー] /(o) International Organization for Standardization/\nＩＳＯ [アイソ] /(o) International Organization for Standardization/\nＩＳＯ [イソ] /(o) International Organization for Standardization/\nＪＡ [ジェーエー] /(o) Japan Agricultural Cooperatives (JA)/\nＪＡＳ [ジャス] /(c) Japan Air System/\nＪＡ共済 [ジェーエーきょうさい] /(c) National Mutual Insurance Federation of Agricultural Cooperatives/\nＪＡ広島病院前駅 [ジェーエーひろしまびょういんまええき] /JA Hiroshimabyouinmae Station (st)/\nＪＩＣＡ [ジャイカ] /(o\n"
     ]
    }
   ],
   "source": [
    "data = raw_data.decode('utf-8')\n",
    "print(data[:1000])"
   ]
  },
  {
   "cell_type": "markdown",
   "metadata": {},
   "source": [
    "The name in kanji is the first letter(s) of each line followed by the transliteration in hiragana inside `[` and `]` characters, then the transliteration in romaji inside `/` and `/`. Inside `/` and `/` is also the gender label inside of parentheses. Assuming we want to model our features on the kanji name, we can ignore all the transliteration data. So we need to first capture the name (`r'^(\\w+) \\['`), followed by anything (`.*`) until we see the label (`\\(([mf])\\)`). Since we only match on `m` and `f`, we ignore any names with other labels."
   ]
  },
  {
   "cell_type": "code",
   "execution_count": 62,
   "metadata": {
    "tags": []
   },
   "outputs": [
    {
     "output_type": "execute_result",
     "data": {
      "text/plain": [
       "('熙陽美', 'f')"
      ]
     },
     "metadata": {},
     "execution_count": 62
    }
   ],
   "source": [
    "import re\n",
    "jpn_data = []\n",
    "for line in data.splitlines():\n",
    "    m = re.match(r'^(\\w+) \\[.*\\(([fgm])\\)', line)  # TODO: write a regular expression to capture the name and gender\n",
    "    if m:\n",
    "        jpn_data.append(m.groups())\n",
    "jpn_data[-1]"
   ]
  },
  {
   "cell_type": "markdown",
   "metadata": {},
   "source": [
    "As before, we need to process the data for training and testing the model."
   ]
  },
  {
   "cell_type": "code",
   "execution_count": 63,
   "metadata": {},
   "outputs": [],
   "source": [
    "random.shuffle(jpn_data)"
   ]
  },
  {
   "cell_type": "code",
   "execution_count": 64,
   "metadata": {},
   "outputs": [
    {
     "output_type": "stream",
     "name": "stdout",
     "text": [
      "train 15857 m: 1662 f: 8998\ntest 1761 m: 200 f: 991\n"
     ]
    }
   ],
   "source": [
    "# the japanese data is too big! just use a tenth for now\n",
    "jpn_data = jpn_data[:int(len(jpn_data)/10)]\n",
    "\n",
    "index = int(len(jpn_data) / 10)\n",
    "j_train_set = jpn_data[index:]\n",
    "j_test_set = jpn_data[:index]\n",
    "print('train', len(j_train_set),\n",
    "      'm:', sum(1 for pair in j_train_set if pair[1] == 'm'),\n",
    "      'f:', sum(1 for _, label in j_train_set if label == 'f'))\n",
    "print('test', len(j_test_set),\n",
    "      'm:', sum(1 for _, label in j_test_set if label == 'm'),\n",
    "      'f:', sum(1 for _, label in j_test_set if label == 'f'))"
   ]
  },
  {
   "cell_type": "code",
   "execution_count": 55,
   "metadata": {},
   "outputs": [
    {
     "output_type": "execute_result",
     "data": {
      "text/plain": [
       "{'last_letter=寺': True, 'first_letter=万': True, 'last_two_letters=寿寺': True}"
      ]
     },
     "metadata": {},
     "execution_count": 55
    }
   ],
   "source": [
    "gender_features(j_train_set[0][0])"
   ]
  },
  {
   "cell_type": "markdown",
   "metadata": {},
   "source": [
    "The `gender_features()` may be relevant for Japanese data as well, as long as it doesn't have any English-specific features."
   ]
  },
  {
   "cell_type": "code",
   "execution_count": 86,
   "metadata": {},
   "outputs": [],
   "source": [
    "j_train = [(gender_features(name), label) for name, label in j_train_set]  # TODO: compute gender_features() for j_train_set, pair each with label\n",
    "\n",
    "j_test = [(gender_features(name), label) for name, label in j_test_set]  # TODO: do the same for j_test_set"
   ]
  },
  {
   "cell_type": "code",
   "execution_count": 87,
   "metadata": {},
   "outputs": [
    {
     "output_type": "execute_result",
     "data": {
      "text/plain": [
       "{'last_letter=郎': True, 'first_letter=太': True, 'last_two_letters=太郎': True}"
      ]
     },
     "metadata": {},
     "execution_count": 87
    }
   ],
   "source": [
    "gender_features('太郎')"
   ]
  },
  {
   "cell_type": "code",
   "execution_count": 88,
   "metadata": {},
   "outputs": [],
   "source": [
    "j_classifier = nltk.NaiveBayesClassifier.train(j_train)"
   ]
  },
  {
   "cell_type": "code",
   "execution_count": 89,
   "metadata": {},
   "outputs": [
    {
     "output_type": "stream",
     "name": "stdout",
     "text": [
      "太郎 m\n文美 f\n香月 f\n良男 g\n恵里香 f\n"
     ]
    }
   ],
   "source": [
    "print('太郎', j_classifier.classify(gender_features('太郎')))\n",
    "print('文美', j_classifier.classify(gender_features('文美')))\n",
    "print('香月', j_classifier.classify(gender_features('香月')))\n",
    "print('良男', j_classifier.classify(gender_features('良男')))\n",
    "print('恵里香', j_classifier.classify(gender_features('恵里香')))"
   ]
  },
  {
   "cell_type": "code",
   "execution_count": 69,
   "metadata": {},
   "outputs": [
    {
     "output_type": "stream",
     "name": "stdout",
     "text": [
      "0.8767745599091425\n"
     ]
    }
   ],
   "source": [
    "print(nltk.classify.accuracy(j_classifier, j_test))"
   ]
  },
  {
   "cell_type": "markdown",
   "metadata": {},
   "source": [
    "### Feature Selection\n",
    "\n",
    "Not all features are useful, so the task of feature selection tries to choose the best ones. There are many methods for selecting relevant features, but for now let's just see what the model thinks are the most informative ones:"
   ]
  },
  {
   "cell_type": "code",
   "execution_count": 73,
   "metadata": {},
   "outputs": [
    {
     "output_type": "stream",
     "name": "stdout",
     "text": [
      "Most Informative Features\n     last_two_letters=na = True           female : male   =    157.3 : 1.0\n     last_two_letters=la = True           female : male   =     72.0 : 1.0\n     last_two_letters=ia = True           female : male   =     55.6 : 1.0\n           last_letter=k = True             male : female =     45.1 : 1.0\n     last_two_letters=ld = True             male : female =     39.6 : 1.0\n           last_letter=a = True           female : male   =     36.1 : 1.0\n     last_two_letters=us = True             male : female =     27.0 : 1.0\n     last_two_letters=ra = True           female : male   =     26.2 : 1.0\n     last_two_letters=do = True             male : female =     25.1 : 1.0\n     last_two_letters=ta = True           female : male   =     24.5 : 1.0\n     last_two_letters=io = True             male : female =     24.0 : 1.0\n     last_two_letters=rd = True             male : female =     23.2 : 1.0\n           last_letter=f = True             male : female =     22.8 : 1.0\n     last_two_letters=rt = True             male : female =     21.7 : 1.0\n     last_two_letters=os = True             male : female =     16.2 : 1.0\n"
     ]
    }
   ],
   "source": [
    "classifier.show_most_informative_features(15)"
   ]
  },
  {
   "cell_type": "code",
   "execution_count": 72,
   "metadata": {},
   "outputs": [
    {
     "output_type": "stream",
     "name": "stdout",
     "text": [
      "Most Informative Features\n           last_letter=彦 = True                m : g      =    230.3 : 1.0\n     last_two_letters=一郎 = True                m : g      =    138.6 : 1.0\n     last_two_letters=三郎 = True                m : g      =    114.4 : 1.0\n     last_two_letters=之助 = True                m : g      =     88.6 : 1.0\n           last_letter=雄 = True                g : f      =     82.1 : 1.0\n           last_letter=二 = True                g : f      =     74.4 : 1.0\n     last_two_letters=太郎 = True                m : g      =     71.9 : 1.0\n     last_two_letters=五郎 = True                m : g      =     67.7 : 1.0\n     last_two_letters=次郎 = True                m : g      =     64.4 : 1.0\n           last_letter=郎 = True                m : g      =     56.5 : 1.0\n           last_letter=司 = True                g : f      =     54.8 : 1.0\n     last_two_letters=二朗 = True                m : g      =     53.1 : 1.0\n           last_letter=菜 = True                f : g      =     49.9 : 1.0\n           last_letter=一 = True                g : f      =     48.2 : 1.0\n           last_letter=義 = True                m : f      =     46.5 : 1.0\n"
     ]
    }
   ],
   "source": [
    "j_classifier.show_most_informative_features(15)"
   ]
  },
  {
   "cell_type": "markdown",
   "metadata": {},
   "source": [
    "## Evaluation\n",
    "\n",
    "In order to evaluate supervised ML systems, we need gold test data. It is imperative that you do not evaluate your system on the data that you trained it on, as the evaluation will be meaningless at best and often deceptive. The first task is to split your data into separate sets for training and evaluation.\n",
    "\n"
   ]
  },
  {
   "cell_type": "markdown",
   "metadata": {},
   "source": [
    "### Data splits\n",
    "\n",
    "A normal proportion of test data to the rest is 10:90, and the remainder often sets another 10% aside as development data, with the final remainder as trainign data:\n",
    "\n",
    "<table>\n",
    "    <tr><td style=\"background-color: #1FC3AA; width: 400px; font-size: 16pt; color: black;\">Training:<br/> 80%</td>\n",
    "        <td style=\"background-color: #84ded0; width: 50px; font-size: 16pt; color: black;\">Dev:<br/> 10%</td>\n",
    "        <td style=\"background-color: #8624F5; width: 50px; font-size: 16pt; color: white;\">Test:<br/> 10%</td></tr>\n",
    "</table>\n",
    "\n",
    "Note that the terminology for these splits is sometimes inconsistent.\n",
    "\n",
    "* **training** : used to learn a model; standard\n",
    "* **development** : used to evaluate a model for refinement or tuning\n",
    "  * sometimes called **validation** or **tuning** data\n",
    "  * sometimes refers to **training** + **validation**\n",
    "* **test** : used for final evaluation of a model; standard\n",
    "  * sometimes called **evaluation** or **holdout** data\n",
    "\n",
    "See [this Wikipedia article](https://en.wikipedia.org/wiki/Training,_validation,_and_test_sets) or [this Google ML course](https://developers.google.com/machine-learning/crash-course/training-and-test-sets/splitting-data) for more info.\n",
    "\n",
    "How you split the data is important. Simply taking contiguous blocks or shuffling the data can lead to unrepresentative samples. Often you need to look at the data first in order to decide how to split."
   ]
  },
  {
   "cell_type": "markdown",
   "metadata": {},
   "source": [
    "### Accuracy, Precision, Recall, and F-score\n",
    "\n",
    "<table>\n",
    "    <tr>\n",
    "        <td></td>\n",
    "        <td colspan=\"2\" style=\"text-align: center\">Gold Values</td>\n",
    "    </tr>\n",
    "    <tr>\n",
    "        <td rowspan=\"2\">System Output</td>\n",
    "        <td>\n",
    "            <table style=\"border: 1px solid black\">\n",
    "                <tr><td>True Positive</td><td>False Positive</td></tr>\n",
    "                <tr><td>False Negative</td><td>True Negative</td></tr>\n",
    "            </table>\n",
    "        </td>\n",
    "    </tr>\n",
    "</table>\n",
    "\n",
    "Define the following terms:\n",
    "\n",
    "* Accuracy: `acc = (TP + TN) / (TP + FP + FN + TN)`\n",
    "* Precision: `P = TP / (TP + FP)`\n",
    "* Recall: `R = TP / (TP + FN)`\n",
    "* F-score: `F = (2 * P * R) / (P + R)`"
   ]
  },
  {
   "cell_type": "code",
   "execution_count": null,
   "metadata": {},
   "outputs": [],
   "source": []
  },
  {
   "cell_type": "markdown",
   "metadata": {},
   "source": [
    "## Decision Trees\n",
    "\n",
    "Decision trees are a machine learning model that learns individual decisions that best split the data into separate categories. Entropy and Information-gain are metrics used to determine how well a feature splits the data."
   ]
  },
  {
   "cell_type": "markdown",
   "metadata": {},
   "source": [
    "### Entropy\n",
    "\n",
    "Entropy is defined as\n",
    "\n",
    "$ - \\sum_x{p(x) * log_2{p(x)}} $\n",
    "\n",
    "For $p(x)$ we can use the `freq()` method of `nltk.FreqDist` which returns the frequency of some item as the proportion of the total:"
   ]
  },
  {
   "cell_type": "code",
   "execution_count": 74,
   "metadata": {},
   "outputs": [
    {
     "output_type": "execute_result",
     "data": {
      "text/plain": [
       "0.4"
      ]
     },
     "metadata": {},
     "execution_count": 74
    }
   ],
   "source": [
    "fd = nltk.FreqDist('mmfff')\n",
    "fd.freq('m')"
   ]
  },
  {
   "cell_type": "markdown",
   "metadata": {},
   "source": [
    "Now given some list of labels (extracted from the gold instances), we can calculate the entropy of that list as follows:"
   ]
  },
  {
   "cell_type": "code",
   "execution_count": 76,
   "metadata": {},
   "outputs": [],
   "source": [
    "import math\n",
    "def entropy(labels):\n",
    "    fd = nltk.FreqDist(labels)\n",
    "    return - sum(fd.freq(x) * math.log2(fd.freq(x)) for x in labels)\n",
    "    # TODO: calculate and return entropy"
   ]
  },
  {
   "cell_type": "code",
   "execution_count": 78,
   "metadata": {},
   "outputs": [
    {
     "output_type": "execute_result",
     "data": {
      "text/plain": [
       "2.384080545409061"
      ]
     },
     "metadata": {},
     "execution_count": 78
    }
   ],
   "source": [
    "entropy(['m', 'm', 'f', 'f', 'f'])"
   ]
  },
  {
   "cell_type": "code",
   "execution_count": 80,
   "metadata": {},
   "outputs": [
    {
     "output_type": "execute_result",
     "data": {
      "text/plain": [
       "-0.0"
      ]
     },
     "metadata": {},
     "execution_count": 80
    }
   ],
   "source": [
    "entropy('mmmmmm')"
   ]
  },
  {
   "cell_type": "code",
   "execution_count": 81,
   "metadata": {},
   "outputs": [
    {
     "output_type": "execute_result",
     "data": {
      "text/plain": [
       "-0.0"
      ]
     },
     "metadata": {},
     "execution_count": 81
    }
   ],
   "source": [
    "entropy('fffff')"
   ]
  },
  {
   "cell_type": "markdown",
   "metadata": {},
   "source": [
    "### Information Gain\n",
    "\n",
    "Information gain is defined for this task as the difference in the entropy of a current sent of data and the set resulting by splitting it on some feature."
   ]
  },
  {
   "cell_type": "markdown",
   "metadata": {},
   "source": [
    "#### Train a DecisionTreeClassifier\n",
    "\n",
    "Now try to train a `nltk.DecisionTreeClassifier`. You can use the same data as before with the feature dictionaries."
   ]
  },
  {
   "cell_type": "code",
   "execution_count": 82,
   "metadata": {},
   "outputs": [],
   "source": [
    "dt_classifier = nltk.DecisionTreeClassifier.train(train)"
   ]
  },
  {
   "cell_type": "code",
   "execution_count": 93,
   "metadata": {},
   "outputs": [
    {
     "output_type": "stream",
     "name": "stdout",
     "text": [
      "0.809823677581864\n"
     ]
    }
   ],
   "source": [
    "print(nltk.classify.accuracy(dt_classifier, test))"
   ]
  },
  {
   "cell_type": "code",
   "execution_count": null,
   "metadata": {},
   "outputs": [],
   "source": [
    "j_dt_classifier = nltk.DecisionTreeClassifier.train(j_train)  # may take a long time!"
   ]
  },
  {
   "cell_type": "code",
   "execution_count": null,
   "metadata": {},
   "outputs": [],
   "source": [
    "print(nltk.classify.accuracy(j_dt_classifier, j_test))"
   ]
  },
  {
   "cell_type": "markdown",
   "metadata": {},
   "source": [
    "The accuracy did not change for the English data but it went up a bit for the Japanese data. Different models (Naive Bayes, Decision Tree, etc.) have different characteristics and may do better on certain kinds of data than others. Sometimes you can just try out a few to find one that works well, but sometimes the cost (time, money) of training a new model prevents you from exploring all options, so it is good to develop some intuition about the kinds of data that each does well on."
   ]
  },
  {
   "cell_type": "code",
   "execution_count": null,
   "metadata": {},
   "outputs": [],
   "source": []
  }
 ],
 "metadata": {
  "kernelspec": {
   "display_name": "Python 3",
   "language": "python",
   "name": "python3"
  },
  "language_info": {
   "codemirror_mode": {
    "name": "ipython",
    "version": 3
   },
   "file_extension": ".py",
   "mimetype": "text/x-python",
   "name": "python",
   "nbconvert_exporter": "python",
   "pygments_lexer": "ipython3",
   "version": "3.8.5-final"
  }
 },
 "nbformat": 4,
 "nbformat_minor": 2
}