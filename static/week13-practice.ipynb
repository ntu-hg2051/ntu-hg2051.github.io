{
 "cells": [
  {
   "cell_type": "markdown",
   "metadata": {},
   "source": [
    "# Week 12\n",
    "\n",
    "Overview\n",
    "\n",
    "* [**Python Fundamentals**](#Python-Fundamentals)\n",
    "  * [Data Types and Structures](#Data-Types-and-Structures)\n",
    "  * [Assignment and Mutability](#Assignment-and-Mutability)\n",
    "  * [Control Structures](#Control-Structures)\n",
    "  * [Functions](#Functions)\n",
    "  * [Built-in Functions](#Built-in-Functions)\n",
    "  * [Regular Expressions](#Regular-Expressions)\n",
    "  * [File I/O, Buffers, and Encodings](#File-I/O,-Buffers,-and-Encodings)\n",
    "  * [Basics of Software Engineering](#Basics-of-Software-Engineering)\n",
    "\n",
    "* [**NLP and the NLTK**](#NLP-and-the-NLTK)\n",
    "  * [Working with Corpora](#Working-with-Corpora)\n",
    "  * [Frequency Distributions](#Frequency-Distributions)\n",
    "  * [Tokenization](#Tokenization)\n",
    "  * [Stemming and Lemmatization](#Stemming-and-Lemmatization)\n",
    "  * [Wordnets](#Wordnets)\n",
    "  * [N-grams and Sequence Models](#N-grams-and-Sequence-Models)\n",
    "  * [Part-of-speech Tagging](#Part-of-speech-Tagging)\n",
    "  * [Supervised Classification](#Supervised-Classification)"
   ]
  },
  {
   "cell_type": "code",
   "execution_count": null,
   "metadata": {},
   "outputs": [],
   "source": []
  },
  {
   "cell_type": "markdown",
   "metadata": {},
   "source": [
    "## Python Fundamentals\n",
    "\n",
    "These are the basic features of Python that you should know how to use."
   ]
  },
  {
   "cell_type": "markdown",
   "metadata": {},
   "source": [
    "### Data Types and Structures\n",
    "\n",
    "Numbers, strings, and booleans are primary data types in Python, while lists, sets, tuples, and dicts are data structures (they are containers of other data types or structures)."
   ]
  },
  {
   "cell_type": "markdown",
   "metadata": {},
   "source": [
    "#### Numbers (int, float)\n",
    "\n",
    "Integers are \"whole\" numbers while floats have a fractional component."
   ]
  },
  {
   "cell_type": "code",
   "execution_count": null,
   "metadata": {},
   "outputs": [],
   "source": [
    "# make the integer 42"
   ]
  },
  {
   "cell_type": "code",
   "execution_count": null,
   "metadata": {},
   "outputs": [],
   "source": [
    "# make the float 3.14159"
   ]
  },
  {
   "cell_type": "code",
   "execution_count": null,
   "metadata": {},
   "outputs": [],
   "source": [
    "# add two numbers"
   ]
  },
  {
   "cell_type": "code",
   "execution_count": null,
   "metadata": {},
   "outputs": [],
   "source": [
    "# divide two integers (is the result an integer?)"
   ]
  },
  {
   "cell_type": "code",
   "execution_count": null,
   "metadata": {},
   "outputs": [],
   "source": [
    "# raise 2 to the power of 3"
   ]
  },
  {
   "cell_type": "markdown",
   "metadata": {},
   "source": [
    "#### Strings\n",
    "\n",
    "Strings are immutable sequences of characters."
   ]
  },
  {
   "cell_type": "code",
   "execution_count": null,
   "metadata": {},
   "outputs": [],
   "source": [
    "s = '' # make a string for the following: Kalau rasa gembira tepuk tangan"
   ]
  },
  {
   "cell_type": "code",
   "execution_count": null,
   "metadata": {},
   "outputs": [],
   "source": [
    "# upcase all the letters (use a string method)"
   ]
  },
  {
   "cell_type": "code",
   "execution_count": null,
   "metadata": {},
   "outputs": [],
   "source": [
    "# split the words into a list "
   ]
  },
  {
   "cell_type": "code",
   "execution_count": null,
   "metadata": {},
   "outputs": [],
   "source": [
    "# make a string for the following: Kim said, \"we're going for tea\""
   ]
  },
  {
   "cell_type": "code",
   "execution_count": null,
   "metadata": {},
   "outputs": [],
   "source": [
    "# format a (new) string to say \"Hello, (name)\" where (name) is a value passed to the str.format() function"
   ]
  },
  {
   "cell_type": "markdown",
   "metadata": {},
   "source": [
    "#### Booleans and None\n",
    "\n",
    "Booleans are `True` and `False` values used in control structures and are the result of comparisons. `None` is a special value meaning \"no value\" (e.g., when a function returns nothing). Boolean values can be used in boolean logic (`and`, `or`, `not`)."
   ]
  },
  {
   "cell_type": "code",
   "execution_count": null,
   "metadata": {},
   "outputs": [],
   "source": [
    "# what is the result of: True and (False or True)"
   ]
  },
  {
   "cell_type": "code",
   "execution_count": null,
   "metadata": {},
   "outputs": [],
   "source": [
    "# what is the result of: 1 < 2 and ('abc'.startswith('z') or bool(-1))"
   ]
  },
  {
   "cell_type": "markdown",
   "metadata": {},
   "source": [
    "#### Lists\n",
    "\n",
    "Lists are mutable sequences of data."
   ]
  },
  {
   "cell_type": "code",
   "execution_count": null,
   "metadata": {},
   "outputs": [],
   "source": [
    "# make a list containing the values 1, 2, 3, 4, 5"
   ]
  },
  {
   "cell_type": "code",
   "execution_count": null,
   "metadata": {},
   "outputs": [],
   "source": [
    "# use a list comprehension to square those values"
   ]
  },
  {
   "cell_type": "code",
   "execution_count": null,
   "metadata": {},
   "outputs": [],
   "source": [
    "# determine if 15 is in the list"
   ]
  },
  {
   "cell_type": "code",
   "execution_count": null,
   "metadata": {},
   "outputs": [],
   "source": [
    "# find the value of the last item"
   ]
  },
  {
   "cell_type": "code",
   "execution_count": null,
   "metadata": {},
   "outputs": [],
   "source": [
    "# find the position of the value 4"
   ]
  },
  {
   "cell_type": "code",
   "execution_count": null,
   "metadata": {},
   "outputs": [],
   "source": [
    "# replace the item at position 2 with the value -9"
   ]
  },
  {
   "cell_type": "markdown",
   "metadata": {},
   "source": [
    "#### Sets\n",
    "\n",
    "Sets are mutable collections of unique items."
   ]
  },
  {
   "cell_type": "code",
   "execution_count": null,
   "metadata": {},
   "outputs": [],
   "source": [
    "# create a set for the characters in the string: Cappuccino or latte?"
   ]
  },
  {
   "cell_type": "code",
   "execution_count": null,
   "metadata": {},
   "outputs": [],
   "source": [
    "# how many items does it contain"
   ]
  },
  {
   "cell_type": "code",
   "execution_count": null,
   "metadata": {},
   "outputs": [],
   "source": [
    "# take the itersection of the set with the set containing the characters in: Do you have milk tea?"
   ]
  },
  {
   "cell_type": "markdown",
   "metadata": {},
   "source": [
    "#### Tuples\n",
    "\n",
    "Tuples are immutable sequences of data. "
   ]
  },
  {
   "cell_type": "code",
   "execution_count": null,
   "metadata": {},
   "outputs": [],
   "source": [
    "# create a tuple containing the values \"Kim\", 1, \"tea\", True"
   ]
  },
  {
   "cell_type": "code",
   "execution_count": null,
   "metadata": {},
   "outputs": [],
   "source": [
    "# unpack the tuple into the variables: name, quantity, beverage, has_milk\n"
   ]
  },
  {
   "cell_type": "markdown",
   "metadata": {},
   "source": [
    "#### Dicts\n",
    "\n",
    "Dictionaries (dicts) are mutable mappings of keys to values."
   ]
  },
  {
   "cell_type": "code",
   "execution_count": null,
   "metadata": {},
   "outputs": [],
   "source": [
    "# create a dict mapping the key \"Kim\" to \"milk tea\""
   ]
  },
  {
   "cell_type": "code",
   "execution_count": null,
   "metadata": {},
   "outputs": [],
   "source": [
    "# add a new entry mapping \"Sandy\" to \"long black\""
   ]
  },
  {
   "cell_type": "code",
   "execution_count": null,
   "metadata": {},
   "outputs": [],
   "source": [
    "# retrieve the value of the key \"Kim\""
   ]
  },
  {
   "cell_type": "markdown",
   "metadata": {},
   "source": [
    "### Assignment and Mutability\n",
    "\n",
    "Values may be assigned to variables. Primary types are always immutable, while data structures may be mutable or immutable.\n",
    "\n",
    "* What does mutability mean?\n",
    "* What is the value of `y` after the following is executed:\n",
    "\n",
    "  ```python\n",
    "  >>> x = 5\n",
    "  >>> y = x\n",
    "  >>> x += 3\n",
    "  ```\n",
    "  \n",
    "* What is the value of `z` after the following is executed:\n",
    "\n",
    "  ```python\n",
    "  >>> w = [1, 2]\n",
    "  >>> z = w\n",
    "  >>> w.append(3)\n",
    "  >>> w = [4, 5, 6]\n",
    "  ```"
   ]
  },
  {
   "cell_type": "markdown",
   "metadata": {},
   "source": [
    "### Control Structures\n",
    "\n",
    "Programs usually execute each step sequentially. Control structures alter the flow of execution."
   ]
  },
  {
   "cell_type": "markdown",
   "metadata": {},
   "source": [
    "#### if statements\n",
    "\n",
    "`if` statements execute a nested block of code only if the condition passes; if it doesn't pass, any following `elif` statements are then attempted with other conditions. Finally, if no condition passes and there's an `else` statement, its block is executed."
   ]
  },
  {
   "cell_type": "code",
   "execution_count": null,
   "metadata": {},
   "outputs": [],
   "source": [
    "x = int(2/3)\n",
    "# print 'greater than' if the value of x is greater than 0,\n",
    "# print 'less than' if x is less than 0\n",
    "# otherwise print 'equal to'"
   ]
  },
  {
   "cell_type": "markdown",
   "metadata": {},
   "source": [
    "#### for loops\n",
    "\n",
    "`for` loops iterate over some sequence of data and execute once for each item."
   ]
  },
  {
   "cell_type": "code",
   "execution_count": null,
   "metadata": {},
   "outputs": [],
   "source": [
    "x = ['one', 'two', 'three']\n",
    "# print each string in x surrounded by '---' (e.g., '---one---', then '---two---', etc.)"
   ]
  },
  {
   "cell_type": "markdown",
   "metadata": {},
   "source": [
    "#### while loops\n",
    "\n",
    "`while` loops execute their code until some condition is met."
   ]
  },
  {
   "cell_type": "code",
   "execution_count": null,
   "metadata": {},
   "outputs": [],
   "source": [
    "x = [5, 4, 3, 2, 1]\n",
    "# while x has more than one number, take the last two elements (hint: use list.pop())\n",
    "# add the two numbers\n",
    "# print the result\n",
    "# and append the result back onto x\n"
   ]
  },
  {
   "cell_type": "markdown",
   "metadata": {},
   "source": [
    "### Functions\n",
    "\n",
    "Functions let you write some code that can be reused by calling it later, possibly with different parameters."
   ]
  },
  {
   "cell_type": "code",
   "execution_count": null,
   "metadata": {},
   "outputs": [],
   "source": [
    "# write a function double() that takes a value x and returns x multiplied by 2\n"
   ]
  },
  {
   "cell_type": "code",
   "execution_count": null,
   "metadata": {},
   "outputs": [],
   "source": [
    "assert double(4) == 8\n",
    "assert double('ha') == 'haha'"
   ]
  },
  {
   "cell_type": "markdown",
   "metadata": {},
   "source": [
    "### Built-in Functions\n",
    "\n",
    "You should know what [Python's built-in functions](https://docs.python.org/3/library/functions.html) do, and know how to use them (perhaps using some documentation)."
   ]
  },
  {
   "cell_type": "markdown",
   "metadata": {},
   "source": [
    "#### `int()`, `float()`, `str()`, `bool()`, `list()`, `tuple()`, `dict()`, and `set()`\n",
    "\n",
    "These functions cast or create values for Python's basic data types."
   ]
  },
  {
   "cell_type": "code",
   "execution_count": null,
   "metadata": {},
   "outputs": [],
   "source": [
    "int('10')"
   ]
  },
  {
   "cell_type": "code",
   "execution_count": null,
   "metadata": {},
   "outputs": [],
   "source": [
    "float(3)"
   ]
  },
  {
   "cell_type": "code",
   "execution_count": null,
   "metadata": {},
   "outputs": [],
   "source": [
    "str(3)"
   ]
  },
  {
   "cell_type": "code",
   "execution_count": null,
   "metadata": {},
   "outputs": [],
   "source": [
    "bool(3)"
   ]
  },
  {
   "cell_type": "code",
   "execution_count": null,
   "metadata": {},
   "outputs": [],
   "source": [
    "list('abc')"
   ]
  },
  {
   "cell_type": "code",
   "execution_count": null,
   "metadata": {},
   "outputs": [],
   "source": [
    "tuple('abc')"
   ]
  },
  {
   "cell_type": "code",
   "execution_count": null,
   "metadata": {},
   "outputs": [],
   "source": [
    "dict([('a', 1), ('b', 2)])"
   ]
  },
  {
   "cell_type": "code",
   "execution_count": null,
   "metadata": {},
   "outputs": [],
   "source": [
    "set('aaabbc')"
   ]
  },
  {
   "cell_type": "markdown",
   "metadata": {},
   "source": [
    "#### `all()`, `any()`, `min()`, `max()`, `sum()`, `len()`\n",
    "\n",
    "These functions \"reduce\" iterables: that is, they take an iterable like a list or set, and return a single value."
   ]
  },
  {
   "cell_type": "code",
   "execution_count": null,
   "metadata": {},
   "outputs": [],
   "source": [
    "all([True, True, False])"
   ]
  },
  {
   "cell_type": "code",
   "execution_count": null,
   "metadata": {},
   "outputs": [],
   "source": [
    "any([False, False, True])"
   ]
  },
  {
   "cell_type": "code",
   "execution_count": null,
   "metadata": {},
   "outputs": [],
   "source": [
    "min([8, 6, 7, 5, 3, 0, 9])"
   ]
  },
  {
   "cell_type": "code",
   "execution_count": null,
   "metadata": {},
   "outputs": [],
   "source": [
    "max([8, 6, 7, 5, 3, 0, 9])"
   ]
  },
  {
   "cell_type": "code",
   "execution_count": null,
   "metadata": {},
   "outputs": [],
   "source": [
    "sum([8, 6, 7, 5, 3, 0, 9])"
   ]
  },
  {
   "cell_type": "code",
   "execution_count": null,
   "metadata": {},
   "outputs": [],
   "source": [
    "len('abcdefghijklmnopqrstuvwxyz')"
   ]
  },
  {
   "cell_type": "markdown",
   "metadata": {},
   "source": [
    "#### `map()`, `sorted()`, `reversed()`, `range()`, and `zip()`\n",
    "\n",
    "These functions take iterables and produce more iterables. `map()`, `sorted()`, and `reversed()` are **higher-order functions** because they can also take another function as a parameter to determine their output."
   ]
  },
  {
   "cell_type": "code",
   "execution_count": null,
   "metadata": {},
   "outputs": [],
   "source": [
    "list(map(str.lower, ['Pierre', 'Vinken']))"
   ]
  },
  {
   "cell_type": "code",
   "execution_count": null,
   "metadata": {},
   "outputs": [],
   "source": [
    "sorted('Chef Charlie chopped chilli peppers while chef Chloe charred chicken.'.split())"
   ]
  },
  {
   "cell_type": "code",
   "execution_count": null,
   "metadata": {},
   "outputs": [],
   "source": [
    "sorted('Chef Charlie chopped chilli peppers while chef Chloe charred chicken.'.split(), key=str.lower)"
   ]
  },
  {
   "cell_type": "code",
   "execution_count": null,
   "metadata": {},
   "outputs": [],
   "source": [
    "list(reversed(range(10)))"
   ]
  },
  {
   "cell_type": "code",
   "execution_count": null,
   "metadata": {},
   "outputs": [],
   "source": [
    "list(zip('abc', range(3)))"
   ]
  },
  {
   "cell_type": "markdown",
   "metadata": {},
   "source": [
    "#### `open()` and `print()`\n",
    "\n",
    "These functions work with files and buffers for reading and writing text or bytes."
   ]
  },
  {
   "cell_type": "code",
   "execution_count": null,
   "metadata": {},
   "outputs": [],
   "source": [
    "import tempfile\n",
    "import os\n",
    "with tempfile.TemporaryDirectory() as tmpdirname:  # don't worry about tempfile; you don't need to know it\n",
    "    path = os.path.join(tmpdirname, 'myfile.txt')\n",
    "\n",
    "    # write a string to *path* (use 'with open...')\n",
    "            \n",
    "    # read it back and print\n",
    "    "
   ]
  },
  {
   "cell_type": "markdown",
   "metadata": {},
   "source": [
    "### Regular Expressions\n",
    "\n",
    "Regular expressions are used for matching patterns in text."
   ]
  },
  {
   "cell_type": "code",
   "execution_count": null,
   "metadata": {},
   "outputs": [],
   "source": [
    "import re\n",
    "re.match(r'one', 'three two one')  # no match: match() must match the start of the string\n",
    "re.search(r'one', 'three two one')  # search will find the first match"
   ]
  },
  {
   "cell_type": "markdown",
   "metadata": {},
   "source": [
    "### File I/O, Buffers, and Encodings\n",
    "\n",
    "Files and responses to web requests are **buffers** that hold a portion of some data at a time. They generally contain bytes which must be decoded using the appropriate **encoding** to get a unicode string."
   ]
  },
  {
   "cell_type": "code",
   "execution_count": null,
   "metadata": {},
   "outputs": [],
   "source": [
    "from urllib import request\n",
    "response = request.urlopen('http://andrew.triumf.ca/multilingual/samples/korean.html')\n",
    "# response is a buffer, use its read() method to store the data in a variable named raw\n",
    "raw = response.read()"
   ]
  },
  {
   "cell_type": "code",
   "execution_count": null,
   "metadata": {},
   "outputs": [],
   "source": [
    "# decode the bytes into a unicode string using the 'ksc5601' encoding\n",
    "s = raw.decode('ksc5601')\n",
    "print(s)"
   ]
  },
  {
   "cell_type": "markdown",
   "metadata": {},
   "source": [
    "## NLP and the NLTK\n",
    "\n",
    "You are expected to know some basic tasks in the field of natural language processing and how to accomplish those tasks using the NLTK (with documentation, perhaps)."
   ]
  },
  {
   "cell_type": "code",
   "execution_count": null,
   "metadata": {},
   "outputs": [],
   "source": [
    "import nltk  # run this"
   ]
  },
  {
   "cell_type": "markdown",
   "metadata": {},
   "source": [
    "### Working with Corpora\n",
    "\n",
    "We've discussed two main kinds of corpora: **lexical resources** and **texts**.\n",
    "\n",
    "* What are the differences between lexical resources and texts?\n",
    "* Which of the following are lexical resources?\n",
    "  - Wordnet\n",
    "  - Newspaper archives\n",
    "  - Spoken dialog\n",
    "  - Bilingual dictionaries\n",
    "  - Lists of stopwords"
   ]
  },
  {
   "cell_type": "code",
   "execution_count": null,
   "metadata": {},
   "outputs": [],
   "source": [
    "# import the nltk.corpus.stopwords corpus\n",
    "# get the list of 'indonesian' stopwords"
   ]
  },
  {
   "cell_type": "code",
   "execution_count": null,
   "metadata": {},
   "outputs": [],
   "source": [
    "# count how many sentences are in the Herman Melville story Moby Dick (from the nltk.corpus.gutenberg corpus)\n"
   ]
  },
  {
   "cell_type": "markdown",
   "metadata": {},
   "source": [
    "### Frequency Distributions\n",
    "\n",
    "Frequency distributions are used to count things. Conditional frequency distributions count things separately for different contexts."
   ]
  },
  {
   "cell_type": "code",
   "execution_count": null,
   "metadata": {},
   "outputs": [],
   "source": [
    "# create a frequency distribution of the downcased words in Moby Dick, excluding English stopwords\n"
   ]
  },
  {
   "cell_type": "markdown",
   "metadata": {},
   "source": [
    "### Tokenization\n",
    "\n",
    "Tokenization breaks up a string into smaller strings. As this is often one of the first steps in **NLP pipelines** (sequential analysis tasks), the way it is done can have a large effect on downstream performance."
   ]
  },
  {
   "cell_type": "code",
   "execution_count": null,
   "metadata": {},
   "outputs": [],
   "source": [
    "# tokenize the sentence: \"Ms. Tan showed the flat to prospective renters from Taiwan, Japan, and Indonesia.\"\n",
    "\n"
   ]
  },
  {
   "cell_type": "markdown",
   "metadata": {},
   "source": [
    "### Stemming and Lemmatization\n",
    "\n",
    "Stemming removes morphological inflection while lemmatization changes inflected words to a base form. Both are kinds of lexical normalization used to reduce data sparsity."
   ]
  },
  {
   "cell_type": "code",
   "execution_count": null,
   "metadata": {},
   "outputs": [],
   "source": [
    "# use nltk.stem.WordNetLemmatizer and nltk.stem.porter.PorterStemmer to lemmatize and stem some inflected words\n",
    "import nltk.stem\n",
    "import nltk.stem.porter\n"
   ]
  },
  {
   "cell_type": "markdown",
   "metadata": {},
   "source": [
    "### Wordnets\n",
    "\n",
    "Wordnets are highly-structured lexical resources that describe the relationships between words."
   ]
  },
  {
   "cell_type": "code",
   "execution_count": null,
   "metadata": {},
   "outputs": [],
   "source": [
    "from nltk.corpus import wordnet as wn\n",
    "# find the common ancestor synset for \"dog\" and \"cat\""
   ]
  },
  {
   "cell_type": "markdown",
   "metadata": {},
   "source": [
    "### N-grams and Sequence Models\n",
    "\n",
    "N-grams are small slices taken from sequential data. E.g., a \"bigram\" is a 2-tuple, a \"trigram\" is a 3-tuple, and a \"unigram\" is a 1-tuple. They are used to provide generalized models of the order of items in a sequence."
   ]
  },
  {
   "cell_type": "code",
   "execution_count": null,
   "metadata": {},
   "outputs": [],
   "source": [
    "# Produce a list of the bigrams in the sentence: \"Kim likes milk tea.\""
   ]
  },
  {
   "cell_type": "code",
   "execution_count": null,
   "metadata": {},
   "outputs": [],
   "source": [
    "# Create a conditional frequency distribution of bigrams for the sentences \"the dog chased the cat\" and \"the dog slept\".\n"
   ]
  },
  {
   "cell_type": "code",
   "execution_count": null,
   "metadata": {},
   "outputs": [],
   "source": [
    "# what is the most likely word to follow \"the\"?\n"
   ]
  },
  {
   "cell_type": "markdown",
   "metadata": {},
   "source": [
    "### Part-of-speech Tagging\n",
    "\n",
    "Words in a text can be annotated with their categories, called **parts of speech**, to provide a basic syntactic description."
   ]
  },
  {
   "cell_type": "code",
   "execution_count": null,
   "metadata": {},
   "outputs": [],
   "source": [
    "# Use `nltk.pos_tag()` to tag the sentence \"But Sandy enjoys coffee.\" (hint: you need to tokenize it first)\n"
   ]
  },
  {
   "cell_type": "markdown",
   "metadata": {},
   "source": [
    "### Supervised Classification\n",
    "\n",
    "Supervised classification is one kind of **machine learning**. It is **supervised** because each data instance is annotated with a task-specific label, and the machine has to learn the associations between properties of the instance and the label."
   ]
  },
  {
   "cell_type": "code",
   "execution_count": null,
   "metadata": {},
   "outputs": [],
   "source": [
    "from nltk.corpus import movie_reviews  # load the movie_reviews corpus\n",
    "movie_reviews.categories()"
   ]
  },
  {
   "cell_type": "code",
   "execution_count": null,
   "metadata": {},
   "outputs": [],
   "source": [
    "# create a variable 'data' that contains the labeled data\n",
    "# hint: for each category, get the fileids for the category,\n",
    "#       then associate all words in each file to its category\n",
    "data = []\n"
   ]
  },
  {
   "cell_type": "code",
   "execution_count": null,
   "metadata": {},
   "outputs": [],
   "source": [
    "# get the size of 1/5 of the data\n",
    "k = 5"
   ]
  },
  {
   "cell_type": "code",
   "execution_count": null,
   "metadata": {},
   "outputs": [],
   "source": [
    "# shuffle, then split the data into test and train portions\n",
    "import random  # use random.shuffle()"
   ]
  },
  {
   "cell_type": "code",
   "execution_count": null,
   "metadata": {},
   "outputs": [],
   "source": [
    "# define a feature extractor function\n"
   ]
  },
  {
   "cell_type": "code",
   "execution_count": null,
   "metadata": {},
   "outputs": [],
   "source": [
    "# use the function to produce lists of (feature_dict, label) pairs for train and test\n"
   ]
  },
  {
   "cell_type": "code",
   "execution_count": null,
   "metadata": {},
   "outputs": [],
   "source": [
    "# train a naive bayes classifier with the training data\n"
   ]
  },
  {
   "cell_type": "code",
   "execution_count": null,
   "metadata": {},
   "outputs": [],
   "source": [
    "# evaluate the accuracy on the test data\n"
   ]
  },
  {
   "cell_type": "code",
   "execution_count": null,
   "metadata": {},
   "outputs": [],
   "source": [
    "# is that accuracy any good? We need to know the distribution of the test data\n",
    "\n",
    "pos = len([label for _, label in test_feats if label=='pos'])\n",
    "print(pos / len(test_feats))"
   ]
  },
  {
   "cell_type": "markdown",
   "metadata": {},
   "source": [
    "68% accuracy is better than 52% (if we labeled all test items as \"neg\"). Note that These numbers may fluctuate depending on what `random.shuffle()` does above."
   ]
  },
  {
   "cell_type": "code",
   "execution_count": null,
   "metadata": {},
   "outputs": [],
   "source": []
  }
 ],
 "metadata": {
  "kernelspec": {
   "display_name": "Python 3",
   "language": "python",
   "name": "python3"
  },
  "language_info": {
   "codemirror_mode": {
    "name": "ipython",
    "version": 3
   },
   "file_extension": ".py",
   "mimetype": "text/x-python",
   "name": "python",
   "nbconvert_exporter": "python",
   "pygments_lexer": "ipython3",
   "version": "3.7.3"
  }
 },
 "nbformat": 4,
 "nbformat_minor": 2
}