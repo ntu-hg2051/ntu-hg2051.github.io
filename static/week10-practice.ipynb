{
 "cells": [
  {
   "cell_type": "markdown",
   "metadata": {},
   "source": [
    "# Week 10\n",
    "\n",
    "This week covers part of speech tagging in more detail.\n",
    "\n",
    "Overview\n",
    "\n",
    "* [**Tagging and Tagsets**](#Tagging-and-Tagsets)\n",
    "* [**Heuristic-based Tagging**](#Heuristic-based-Tagging)\n",
    "* [**N-Gram Tagging**](#N-Gram-Tagging)\n",
    "* [**Visualizing Errors**](#Visualizing-Errors)\n",
    "* [**State-of-the-art Taggers**](#State-of-the-art-Taggers)"
   ]
  },
  {
   "cell_type": "code",
   "execution_count": 3,
   "metadata": {},
   "outputs": [
    {
     "output_type": "execute_result",
     "data": {
      "text/plain": [
       "['From',\n",
       " 'each',\n",
       " 'according',\n",
       " 'to',\n",
       " 'their',\n",
       " 'ability',\n",
       " ',',\n",
       " 'to',\n",
       " 'each',\n",
       " 'according',\n",
       " 'to',\n",
       " 'their',\n",
       " 'need',\n",
       " '.']"
      ]
     },
     "metadata": {},
     "execution_count": 3
    }
   ],
   "source": [
    "# First import some things to work with\n",
    "\n",
    "import nltk\n",
    "from nltk.corpus import brown\n",
    "\n",
    "# nltk.download('brown')\n",
    "# nltk.download('punkt')\n",
    "\n",
    "brown_tagged_news = brown.tagged_sents(categories='news')\n",
    "brown_news = brown.sents(categories='news')\n",
    "brown_tagged_scifi = brown.tagged_sents(categories='science_fiction')\n",
    "brown_scifi = brown.sents(categories='science_fiction')\n",
    "\n",
    "sent = nltk.word_tokenize('From each according to their ability, to each according to their need.')\n",
    "sent"
   ]
  },
  {
   "cell_type": "markdown",
   "metadata": {},
   "source": [
    "# Tagging and Tagsets\n",
    "\n",
    "Recall that part-of-speech tagging assigns a word category to each token in a sentence:"
   ]
  },
  {
   "cell_type": "code",
   "execution_count": 4,
   "metadata": {},
   "outputs": [
    {
     "output_type": "execute_result",
     "data": {
      "text/plain": [
       "[('From', 'IN'),\n",
       " ('each', 'DT'),\n",
       " ('according', 'VBG'),\n",
       " ('to', 'TO'),\n",
       " ('their', 'PRP$'),\n",
       " ('ability', 'NN'),\n",
       " (',', ','),\n",
       " ('to', 'TO'),\n",
       " ('each', 'DT'),\n",
       " ('according', 'VBG'),\n",
       " ('to', 'TO'),\n",
       " ('their', 'PRP$'),\n",
       " ('need', 'NN'),\n",
       " ('.', '.')]"
      ]
     },
     "metadata": {},
     "execution_count": 4
    }
   ],
   "source": [
    "nltk.pos_tag(sent)"
   ]
  },
  {
   "cell_type": "markdown",
   "metadata": {},
   "source": [
    "The categories are defined by **tagsets**. The example above uses the English Penn Treebank tagset, but others are available, even cross-lingual sets. Part-of-speech tagging isn't just for words, but also punctuation and sometimes parts of words. For example, the [Mecab](https://taku910.github.io/mecab/) morphological analyzer for Japanese does both word segmentation and tagging, and morphological segments get their own tag (note: this is shown executed in a terminal, not Python):\n",
    "\n",
    "```bash\n",
    "$ mecab -Osimple <<< \"能力に応じて働き、必要に応じて受け取る。\"\n",
    "能力\t名詞-一般\n",
    "に\t助詞-格助詞-一般\n",
    "応じ\t動詞-自立\n",
    "て\t助詞-接続助詞\n",
    "働き\t動詞-自立\n",
    "、\t記号-読点\n",
    "必要\t名詞-形容動詞語幹\n",
    "に\t助詞-副詞化\n",
    "応じ\t動詞-自立\n",
    "て\t助詞-接続助詞\n",
    "受け取る\t動詞-自立\n",
    "。\t記号-句点\n",
    "EOS\n",
    "```"
   ]
  },
  {
   "cell_type": "markdown",
   "metadata": {},
   "source": [
    "## Heuristic-based Tagging\n",
    "\n",
    "A simple way to tag is to use basic statistics or language knowledge to create a tagger with hand-built rules.\n",
    "\n",
    "\n",
    "### Default Tagger\n",
    "\n",
    "The default tagger assigns the same tag to all tokens. This is useless for general purpose uses, but it is useful for establishing baseline performance."
   ]
  },
  {
   "cell_type": "code",
   "execution_count": 5,
   "metadata": {},
   "outputs": [
    {
     "output_type": "execute_result",
     "data": {
      "text/plain": [
       "[('From', 'NN'),\n",
       " ('each', 'NN'),\n",
       " ('according', 'NN'),\n",
       " ('to', 'NN'),\n",
       " ('their', 'NN'),\n",
       " ('ability', 'NN'),\n",
       " (',', 'NN'),\n",
       " ('to', 'NN'),\n",
       " ('each', 'NN'),\n",
       " ('according', 'NN'),\n",
       " ('to', 'NN'),\n",
       " ('their', 'NN'),\n",
       " ('need', 'NN'),\n",
       " ('.', 'NN')]"
      ]
     },
     "metadata": {},
     "execution_count": 5
    }
   ],
   "source": [
    "nn_tagger = nltk.DefaultTagger('NN')\n",
    "nn_tagger.tag(sent)"
   ]
  },
  {
   "cell_type": "code",
   "execution_count": 6,
   "metadata": {},
   "outputs": [
    {
     "output_type": "execute_result",
     "data": {
      "text/plain": [
       "0.13089484257215028"
      ]
     },
     "metadata": {},
     "execution_count": 6
    }
   ],
   "source": [
    "nn_tagger.evaluate(brown_tagged_news)"
   ]
  },
  {
   "cell_type": "code",
   "execution_count": 7,
   "metadata": {},
   "outputs": [
    {
     "output_type": "execute_result",
     "data": {
      "text/plain": [
       "0.10649619903248099"
      ]
     },
     "metadata": {},
     "execution_count": 7
    }
   ],
   "source": [
    "nn_tagger.evaluate(brown_tagged_scifi)"
   ]
  },
  {
   "cell_type": "markdown",
   "metadata": {},
   "source": [
    "Why choose `NN`?"
   ]
  },
  {
   "cell_type": "code",
   "execution_count": 8,
   "metadata": {},
   "outputs": [
    {
     "output_type": "execute_result",
     "data": {
      "text/plain": [
       "[('NN', 13162),\n",
       " ('IN', 10616),\n",
       " ('AT', 8893),\n",
       " ('NP', 6866),\n",
       " (',', 5133),\n",
       " ('NNS', 5066),\n",
       " ('.', 4452),\n",
       " ('JJ', 4392),\n",
       " ('CC', 2664),\n",
       " ('VBD', 2524),\n",
       " ('NN-TL', 2486),\n",
       " ('VB', 2440),\n",
       " ('VBN', 2269),\n",
       " ('RB', 2166),\n",
       " ('CD', 2020),\n",
       " ('CS', 1509),\n",
       " ('VBG', 1398),\n",
       " ('TO', 1237),\n",
       " ('PPS', 1056),\n",
       " ('PP$', 1051)]"
      ]
     },
     "metadata": {},
     "execution_count": 8
    }
   ],
   "source": [
    "fd = nltk.FreqDist(tag for sent in brown_tagged_news for _, tag in sent)\n",
    "fd.most_common(20)"
   ]
  },
  {
   "cell_type": "markdown",
   "metadata": {},
   "source": [
    "#### TODO: try using a different default tag and evaluate it"
   ]
  },
  {
   "cell_type": "code",
   "execution_count": 10,
   "metadata": {},
   "outputs": [
    {
     "output_type": "execute_result",
     "data": {
      "text/plain": [
       "[('From', 'VBN'),\n",
       " ('each', 'VBN'),\n",
       " ('according', 'VBN'),\n",
       " ('to', 'VBN'),\n",
       " ('their', 'VBN'),\n",
       " ('ability', 'VBN'),\n",
       " (',', 'VBN'),\n",
       " ('to', 'VBN'),\n",
       " ('each', 'VBN'),\n",
       " ('according', 'VBN'),\n",
       " ('to', 'VBN'),\n",
       " ('their', 'VBN'),\n",
       " ('need', 'VBN'),\n",
       " ('.', 'VBN')]"
      ]
     },
     "metadata": {},
     "execution_count": 10
    }
   ],
   "source": [
    "nn_tagger = nltk.DefaultTagger('VBN')\n",
    "nn_tagger.tag(sent)"
   ]
  },
  {
   "cell_type": "code",
   "execution_count": 11,
   "metadata": {},
   "outputs": [
    {
     "output_type": "execute_result",
     "data": {
      "text/plain": [
       "0.022564989955645723"
      ]
     },
     "metadata": {},
     "execution_count": 11
    }
   ],
   "source": [
    "nn_tagger.evaluate(brown_tagged_news)"
   ]
  },
  {
   "cell_type": "markdown",
   "metadata": {},
   "source": [
    "## Pattern-based Tagging\n",
    "\n",
    "With a bit more information about the forms of the words, the tagger can do better:"
   ]
  },
  {
   "cell_type": "code",
   "execution_count": 37,
   "metadata": {},
   "outputs": [
    {
     "output_type": "execute_result",
     "data": {
      "text/plain": [
       "[('From', 'NN'),\n",
       " ('each', 'NN'),\n",
       " ('according', 'VBG'),\n",
       " ('to', 'NN'),\n",
       " ('their', 'NN'),\n",
       " ('ability', 'NN'),\n",
       " (',', ','),\n",
       " ('to', 'NN'),\n",
       " ('each', 'NN'),\n",
       " ('according', 'VBG'),\n",
       " ('to', 'NN'),\n",
       " ('their', 'NN'),\n",
       " ('need', 'VBD'),\n",
       " ('.', '.')]"
      ]
     },
     "metadata": {},
     "execution_count": 37
    }
   ],
   "source": [
    "regexp_tagger = nltk.RegexpTagger(\n",
    "    [(r'^\\.$', '.'),\n",
    "     (r'^,$', ','),\n",
    "     (r'.*ful$', 'JJ'),\n",
    "     (r'^un', 'JJ'),\n",
    "     (r'.*ly$', 'RB'),\n",
    "     (r'.*ing$', 'VBG'),                # gerunds\n",
    "     (r'.*ed$', 'VBD'),                 # simple past\n",
    "     (r'.*es$', 'VBZ'),                 # 3rd singular present\n",
    "     (r'.*ould$', 'MD'),                # modals\n",
    "     (r'.*\\'s$', 'NN$'),                # possessive nouns\n",
    "     (r'.*s$', 'NNS'),                  # plural nouns\n",
    "     (r'^-?[0-9]+(\\.[0-9]+)?$', 'CD'),  # cardinal numbers\n",
    "     (r'.*', 'NN')                      # nouns (default)\n",
    "    ])\n",
    "regexp_tagger.tag(sent)"
   ]
  },
  {
   "cell_type": "code",
   "execution_count": 38,
   "metadata": {},
   "outputs": [
    {
     "output_type": "execute_result",
     "data": {
      "text/plain": [
       "0.2992322533166259"
      ]
     },
     "metadata": {},
     "execution_count": 38
    }
   ],
   "source": [
    "regexp_tagger.evaluate(brown_tagged_news)"
   ]
  },
  {
   "cell_type": "code",
   "execution_count": 39,
   "metadata": {},
   "outputs": [
    {
     "output_type": "execute_result",
     "data": {
      "text/plain": [
       "0.29108500345542504"
      ]
     },
     "metadata": {},
     "execution_count": 39
    }
   ],
   "source": [
    "regexp_tagger.evaluate(brown_tagged_scifi)"
   ]
  },
  {
   "cell_type": "markdown",
   "metadata": {},
   "source": [
    "#### TODO: try adding some more rules, or rearranging them, to improve performance"
   ]
  },
  {
   "cell_type": "code",
   "execution_count": null,
   "metadata": {},
   "outputs": [],
   "source": [
    "regexp_tagger2 = nltk.RegexpTagger(\n",
    "    [(r'.*ing$', 'VBG'),                # gerunds\n",
    "     (r'.*ed$', 'VBD'),                 # simple past\n",
    "     (r'.*es$', 'VBZ'),                 # 3rd singular present\n",
    "     (r'.*ould$', 'MD'),                # modals\n",
    "     (r'.*\\'s$', 'NN$'),                # possessive nouns\n",
    "     (r'.*s$', 'NNS'),                  # plural nouns\n",
    "     (r'^-?[0-9]+(\\.[0-9]+)?$', 'CD'),  # cardinal numbers\n",
    "     (r'.*', 'NN')                      # nouns (default)\n",
    "    ])\n",
    "regexp_tagger2.tag(sent)     "
   ]
  },
  {
   "cell_type": "code",
   "execution_count": null,
   "metadata": {},
   "outputs": [],
   "source": [
    "regexp_tagger2.evaluate(brown_tagged_news)"
   ]
  },
  {
   "cell_type": "code",
   "execution_count": null,
   "metadata": {},
   "outputs": [],
   "source": [
    "regexp_tagger2.evaluate(brown_tagged_scifi)"
   ]
  },
  {
   "cell_type": "markdown",
   "metadata": {},
   "source": [
    "## N-Gram Tagging\n",
    "\n",
    "Rather than trying to hand-build many rules to cover all of a language, we can **train** a tagger to **learn** the best tags for each word. This uses statistical inference based on hand-tagged (gold) data, which we assume is correct.\n",
    "\n",
    "### Unigram Tagging\n",
    "\n",
    "First we will start by assigning the tag most frequently associated with a particular word form for the 100 most frequent words (all other words get a tag of `None`):"
   ]
  },
  {
   "cell_type": "code",
   "execution_count": 51,
   "metadata": {},
   "outputs": [],
   "source": [
    "# TODO: find the N most frequent words in the Brown corpus's \"news\" category \n",
    "N = 100\n",
    "\n",
    "words = []\n",
    "for sent in brown_news:\n",
    "    words.extend(sent)\n",
    "nltk.FreqDist(words)\n",
    "\n",
    "fd = nltk.FreqDist(w for sent in brown_news for w in sent)\n",
    "\n",
    "fd.most_common(N)\n",
    "# TODO: find the most likely tags for those words (create a dict mapping {word: tag})\n",
    "cfd = nltk.ConditionalFreqDist(\n",
    "    (word, tag)\n",
    "    for tsent in brown_tagged_news\n",
    "    for (word, tag) in tsent\n",
    ")\n",
    "model = {}\n",
    "for word, freq in fd.most_common(N):\n",
    "    tag = cfd[word].max()\n",
    "    model[word] = tag\n",
    "#model"
   ]
  },
  {
   "cell_type": "code",
   "execution_count": 55,
   "metadata": {},
   "outputs": [],
   "source": [
    "# TODO: build a UnigramTagger using the most likely tags as a model\n",
    "baseline_tagger = nltk.UnigramTagger(model=model)"
   ]
  },
  {
   "cell_type": "markdown",
   "metadata": {},
   "source": [
    "#### TODO: evaluate this tagger on the news and scifi data"
   ]
  },
  {
   "cell_type": "code",
   "execution_count": 56,
   "metadata": {},
   "outputs": [
    {
     "output_type": "execute_result",
     "data": {
      "text/plain": [
       "0.45578495136941344"
      ]
     },
     "metadata": {},
     "execution_count": 56
    }
   ],
   "source": [
    "baseline_tagger.evaluate(brown_tagged_news)"
   ]
  },
  {
   "cell_type": "code",
   "execution_count": null,
   "metadata": {},
   "outputs": [],
   "source": []
  },
  {
   "cell_type": "markdown",
   "metadata": {},
   "source": [
    "#### TODO: increase `N`, then retrain, then re-evaluate"
   ]
  },
  {
   "cell_type": "code",
   "execution_count": 62,
   "metadata": {},
   "outputs": [
    {
     "output_type": "execute_result",
     "data": {
      "text/plain": [
       "0.9349006503968017"
      ]
     },
     "metadata": {},
     "execution_count": 62
    }
   ],
   "source": [
    "N = 100000\n",
    "model = {}\n",
    "for word, freq in fd.most_common(N):\n",
    "    tag = cfd[word].max()\n",
    "    model[word] = tag\n",
    "baseline_tagger = nltk.UnigramTagger(model=model)\n",
    "baseline_tagger.evaluate(brown_tagged_news)"
   ]
  },
  {
   "cell_type": "code",
   "execution_count": 63,
   "metadata": {},
   "outputs": [
    {
     "output_type": "execute_result",
     "data": {
      "text/plain": [
       "0.9349006503968017"
      ]
     },
     "metadata": {},
     "execution_count": 63
    }
   ],
   "source": [
    "unitagger = nltk.UnigramTagger(brown_tagged_news)\n",
    "unitagger.evaluate(brown_tagged_news)"
   ]
  },
  {
   "cell_type": "markdown",
   "metadata": {},
   "source": [
    "### Bigram and Trigram Tagging\n",
    "\n",
    "Now let's give the model a bit of context by using bigrams."
   ]
  },
  {
   "cell_type": "code",
   "execution_count": 64,
   "metadata": {},
   "outputs": [
    {
     "output_type": "execute_result",
     "data": {
      "text/plain": [
       "[('This', 'DT'),\n",
       " ('is', 'BEZ'),\n",
       " ('one', 'CD'),\n",
       " ('of', 'IN'),\n",
       " ('the', 'AT'),\n",
       " ('main', 'JJS'),\n",
       " ('reasons', 'NNS'),\n",
       " ('for', 'IN'),\n",
       " ('National', 'JJ-TL'),\n",
       " ('Library', 'NN-TL'),\n",
       " ('Week', 'NN-TL'),\n",
       " (',', ','),\n",
       " ('April', 'NP'),\n",
       " ('16-22', 'CD'),\n",
       " (',', ','),\n",
       " ('and', 'CC'),\n",
       " ('for', 'IN'),\n",
       " ('its', 'PP$'),\n",
       " ('theme', 'NN'),\n",
       " (':', ':'),\n",
       " ('``', '``'),\n",
       " ('For', 'IN'),\n",
       " ('a', 'AT'),\n",
       " ('richer', 'JJR'),\n",
       " (',', ','),\n",
       " ('fuller', 'JJR'),\n",
       " ('life', 'NN'),\n",
       " (',', ','),\n",
       " ('read', 'VBD'),\n",
       " (\"''\", \"''\"),\n",
       " ('!', '.'),\n",
       " ('!', '.')]"
      ]
     },
     "metadata": {},
     "execution_count": 64
    }
   ],
   "source": [
    "bigram_tagger = nltk.BigramTagger(brown_tagged_news)\n",
    "bigram_tagger.tag(sent)"
   ]
  },
  {
   "cell_type": "code",
   "execution_count": 65,
   "metadata": {},
   "outputs": [
    {
     "output_type": "execute_result",
     "data": {
      "text/plain": [
       "0.7892972929967977"
      ]
     },
     "metadata": {},
     "execution_count": 65
    }
   ],
   "source": [
    "bigram_tagger.evaluate(brown_tagged_news)"
   ]
  },
  {
   "cell_type": "code",
   "execution_count": 66,
   "metadata": {},
   "outputs": [
    {
     "output_type": "execute_result",
     "data": {
      "text/plain": [
       "0.14948168624740843"
      ]
     },
     "metadata": {},
     "execution_count": 66
    }
   ],
   "source": [
    "bigram_tagger.evaluate(brown_tagged_scifi)"
   ]
  },
  {
   "cell_type": "code",
   "execution_count": 67,
   "metadata": {},
   "outputs": [
    {
     "output_type": "execute_result",
     "data": {
      "text/plain": [
       "0.8198679316586113"
      ]
     },
     "metadata": {},
     "execution_count": 67
    }
   ],
   "source": [
    "trigram_tagger = nltk.TrigramTagger(brown_tagged_news)\n",
    "trigram_tagger.evaluate(brown_tagged_news)"
   ]
  },
  {
   "source": [
    "Did the accuracy go up with more n-grams? Try using a backoff and try again:"
   ],
   "cell_type": "markdown",
   "metadata": {}
  },
  {
   "cell_type": "code",
   "execution_count": 69,
   "metadata": {},
   "outputs": [
    {
     "output_type": "execute_result",
     "data": {
      "text/plain": [
       "0.9731487558923564"
      ]
     },
     "metadata": {},
     "execution_count": 69
    }
   ],
   "source": [
    "bigram_tagger = nltk.BigramTagger(brown_tagged_news, backoff=unitagger)\n",
    "bigram_tagger.evaluate(brown_tagged_news)"
   ]
  },
  {
   "cell_type": "code",
   "execution_count": 71,
   "metadata": {},
   "outputs": [
    {
     "output_type": "execute_result",
     "data": {
      "text/plain": [
       "0.9826759750979573"
      ]
     },
     "metadata": {},
     "execution_count": 71
    }
   ],
   "source": [
    "trigram_tagger = nltk.TrigramTagger(brown_tagged_news, backoff=bigram_tagger)\n",
    "trigram_tagger.evaluate(brown_tagged_news)"
   ]
  },
  {
   "cell_type": "code",
   "execution_count": 72,
   "metadata": {},
   "outputs": [
    {
     "output_type": "execute_result",
     "data": {
      "text/plain": [
       "0.8101589495507947"
      ]
     },
     "metadata": {},
     "execution_count": 72
    }
   ],
   "source": [
    "trigram_tagger.evaluate(brown_tagged_scifi)"
   ]
  },
  {
   "cell_type": "markdown",
   "metadata": {},
   "source": [
    "## K-fold Cross-validation\n",
    "\n",
    "Split the training data (`brown_tagged_news` or `brown_tagged_scifi`) for k-fold cross validation. For some value `k` (say, 5), set aside `1/k` for test data and the remainder for training data. Train a bigram tagger with backoff on the training data, then evaluate on the test data.\n",
    "\n",
    "```\n",
    " 12345                       25\n",
    "|.....|.....|.....|.....|.....|\n",
    "\n",
    "i = 0\n",
    "test = [0:5]\n",
    "train = [5:len(data)]\n",
    "\n",
    "i = 1\n",
    "test = [5:10]\n",
    "train = [0:5] + [10:len(data)]\n",
    "```"
   ]
  },
  {
   "cell_type": "code",
   "execution_count": 77,
   "metadata": {},
   "outputs": [
    {
     "output_type": "stream",
     "name": "stdout",
     "text": [
      "4620\n",
      "4623\n",
      "i=0, accuracy=0.8732525173526249\n",
      "i=1, accuracy=0.8319489149621015\n",
      "i=2, accuracy=0.8479944053149508\n",
      "i=3, accuracy=0.8578222778473091\n",
      "i=4, accuracy=0.8615525378021767\n",
      "average accuracy 0.8545141306558326\n"
     ]
    }
   ],
   "source": [
    "news = brown_tagged_news\n",
    "print(924 * 5)\n",
    "\n",
    "print(len(news))\n",
    "k = 5\n",
    "index = int( (1/k) * len(brown_tagged_news) )\n",
    "accs = []\n",
    "\n",
    "for i in range(k):\n",
    "    # TODO: extract 1/k of the data for testing\n",
    "    # TODO: extract (k-1)/k of the data for training\n",
    "    # (hint, use 'index' and 'i' to find where to split)\n",
    "    test_data = news[(i*index):((i+1)*index)]\n",
    "    train_data = news[:i*index] + news[(i+1)*index:]\n",
    "\n",
    "    # TODO: create a bigram tagger that backs off to a unigram tagger\n",
    "    # trained using the extracted training data\n",
    "    unigram_tagger = nltk.UnigramTagger(train_data, backoff=regexp_tagger)\n",
    "    bigram_tagger = nltk.BigramTagger(train_data, backoff=unigram_tagger)\n",
    "    # TODO: now evaluate on the test data\n",
    "    acc = bigram_tagger.evaluate(test_data)\n",
    "    print(f'i={i}, accuracy={acc}')\n",
    "    accs.append(acc)\n",
    "print('average accuracy', sum(accs)/k)  # print the average"
   ]
  },
  {
   "cell_type": "markdown",
   "metadata": {},
   "source": [
    "## Visualizing Errors"
   ]
  },
  {
   "cell_type": "code",
   "execution_count": 78,
   "metadata": {},
   "outputs": [],
   "source": [
    "auto_tagged = bigram_tagger.tag(brown.words(categories='news'))\n",
    "hand_tagged = brown.tagged_words(categories='news')\n",
    "assert len(auto_tagged) == len(hand_tagged)"
   ]
  },
  {
   "cell_type": "code",
   "execution_count": 79,
   "metadata": {},
   "outputs": [
    {
     "output_type": "display_data",
     "data": {
      "text/plain": "<Figure size 432x288 with 1 Axes>",
      "image/svg+xml": "<?xml version=\"1.0\" encoding=\"utf-8\" standalone=\"no\"?>\n<!DOCTYPE svg PUBLIC \"-//W3C//DTD SVG 1.1//EN\"\n  \"http://www.w3.org/Graphics/SVG/1.1/DTD/svg11.dtd\">\n<!-- Created with matplotlib (https://matplotlib.org/) -->\n<svg height=\"307.85875pt\" version=\"1.1\" viewBox=\"0 0 388.965625 307.85875\" width=\"388.965625pt\" xmlns=\"http://www.w3.org/2000/svg\" xmlns:xlink=\"http://www.w3.org/1999/xlink\">\n <metadata>\n  <rdf:RDF xmlns:cc=\"http://creativecommons.org/ns#\" xmlns:dc=\"http://purl.org/dc/elements/1.1/\" xmlns:rdf=\"http://www.w3.org/1999/02/22-rdf-syntax-ns#\">\n   <cc:Work>\n    <dc:type rdf:resource=\"http://purl.org/dc/dcmitype/StillImage\"/>\n    <dc:date>2020-10-21T12:11:14.614399</dc:date>\n    <dc:format>image/svg+xml</dc:format>\n    <dc:creator>\n     <cc:Agent>\n      <dc:title>Matplotlib v3.3.1, https://matplotlib.org/</dc:title>\n     </cc:Agent>\n    </dc:creator>\n   </cc:Work>\n  </rdf:RDF>\n </metadata>\n <defs>\n  <style type=\"text/css\">*{stroke-linecap:butt;stroke-linejoin:round;}</style>\n </defs>\n <g id=\"figure_1\">\n  <g id=\"patch_1\">\n   <path d=\"M 0 307.85875 \nL 388.965625 307.85875 \nL 388.965625 0 \nL 0 0 \nz\n\" style=\"fill:none;\"/>\n  </g>\n  <g id=\"axes_1\">\n   <g id=\"patch_2\">\n    <path d=\"M 46.965625 224.64 \nL 381.765625 224.64 \nL 381.765625 7.2 \nL 46.965625 7.2 \nz\n\" style=\"fill:#ffffff;\"/>\n   </g>\n   <g id=\"matplotlib.axis_1\">\n    <g id=\"xtick_1\">\n     <g id=\"line2d_1\">\n      <path clip-path=\"url(#pc65b87b26e)\" d=\"M 62.183807 224.64 \nL 62.183807 7.2 \n\" style=\"fill:none;stroke:#c0c0c0;stroke-linecap:square;stroke-width:0.8;\"/>\n     </g>\n     <g id=\"line2d_2\">\n      <defs>\n       <path d=\"M 0 0 \nL 0 3.5 \n\" id=\"m29483222ba\" style=\"stroke:#000000;stroke-width:0.8;\"/>\n      </defs>\n      <g>\n       <use style=\"stroke:#000000;stroke-width:0.8;\" x=\"62.183807\" xlink:href=\"#m29483222ba\" y=\"224.64\"/>\n      </g>\n     </g>\n     <g id=\"text_1\">\n      <!-- NP -->\n      <g transform=\"translate(64.943182 245.150937)rotate(-90)scale(0.1 -0.1)\">\n       <defs>\n        <path d=\"M 9.8125 72.90625 \nL 23.09375 72.90625 \nL 55.421875 11.921875 \nL 55.421875 72.90625 \nL 64.984375 72.90625 \nL 64.984375 0 \nL 51.703125 0 \nL 19.390625 60.984375 \nL 19.390625 0 \nL 9.8125 0 \nz\n\" id=\"DejaVuSans-78\"/>\n        <path d=\"M 19.671875 64.796875 \nL 19.671875 37.40625 \nL 32.078125 37.40625 \nQ 38.96875 37.40625 42.71875 40.96875 \nQ 46.484375 44.53125 46.484375 51.125 \nQ 46.484375 57.671875 42.71875 61.234375 \nQ 38.96875 64.796875 32.078125 64.796875 \nz\nM 9.8125 72.90625 \nL 32.078125 72.90625 \nQ 44.34375 72.90625 50.609375 67.359375 \nQ 56.890625 61.8125 56.890625 51.125 \nQ 56.890625 40.328125 50.609375 34.8125 \nQ 44.34375 29.296875 32.078125 29.296875 \nL 19.671875 29.296875 \nL 19.671875 0 \nL 9.8125 0 \nz\n\" id=\"DejaVuSans-80\"/>\n       </defs>\n       <use xlink:href=\"#DejaVuSans-78\"/>\n       <use x=\"74.804688\" xlink:href=\"#DejaVuSans-80\"/>\n      </g>\n     </g>\n    </g>\n    <g id=\"xtick_2\">\n     <g id=\"line2d_3\">\n      <path clip-path=\"url(#pc65b87b26e)\" d=\"M 68.151721 224.64 \nL 68.151721 7.2 \n\" style=\"fill:none;stroke:#c0c0c0;stroke-linecap:square;stroke-width:0.8;\"/>\n     </g>\n     <g id=\"line2d_4\">\n      <g>\n       <use style=\"stroke:#000000;stroke-width:0.8;\" x=\"68.151721\" xlink:href=\"#m29483222ba\" y=\"224.64\"/>\n      </g>\n     </g>\n     <g id=\"text_2\">\n      <!-- JJ -->\n      <g transform=\"translate(70.911096 237.54)rotate(-90)scale(0.1 -0.1)\">\n       <defs>\n        <path d=\"M 9.8125 72.90625 \nL 19.671875 72.90625 \nL 19.671875 5.078125 \nQ 19.671875 -8.109375 14.671875 -14.0625 \nQ 9.671875 -20.015625 -1.421875 -20.015625 \nL -5.171875 -20.015625 \nL -5.171875 -11.71875 \nL -2.09375 -11.71875 \nQ 4.4375 -11.71875 7.125 -8.046875 \nQ 9.8125 -4.390625 9.8125 5.078125 \nz\n\" id=\"DejaVuSans-74\"/>\n       </defs>\n       <use xlink:href=\"#DejaVuSans-74\"/>\n       <use x=\"29.492188\" xlink:href=\"#DejaVuSans-74\"/>\n      </g>\n     </g>\n    </g>\n    <g id=\"xtick_3\">\n     <g id=\"line2d_5\">\n      <path clip-path=\"url(#pc65b87b26e)\" d=\"M 74.119636 224.64 \nL 74.119636 7.2 \n\" style=\"fill:none;stroke:#c0c0c0;stroke-linecap:square;stroke-width:0.8;\"/>\n     </g>\n     <g id=\"line2d_6\">\n      <g>\n       <use style=\"stroke:#000000;stroke-width:0.8;\" x=\"74.119636\" xlink:href=\"#m29483222ba\" y=\"224.64\"/>\n      </g>\n     </g>\n     <g id=\"text_3\">\n      <!-- VB -->\n      <g transform=\"translate(76.879011 245.341562)rotate(-90)scale(0.1 -0.1)\">\n       <defs>\n        <path d=\"M 28.609375 0 \nL 0.78125 72.90625 \nL 11.078125 72.90625 \nL 34.1875 11.53125 \nL 57.328125 72.90625 \nL 67.578125 72.90625 \nL 39.796875 0 \nz\n\" id=\"DejaVuSans-86\"/>\n        <path d=\"M 19.671875 34.8125 \nL 19.671875 8.109375 \nL 35.5 8.109375 \nQ 43.453125 8.109375 47.28125 11.40625 \nQ 51.125 14.703125 51.125 21.484375 \nQ 51.125 28.328125 47.28125 31.5625 \nQ 43.453125 34.8125 35.5 34.8125 \nz\nM 19.671875 64.796875 \nL 19.671875 42.828125 \nL 34.28125 42.828125 \nQ 41.5 42.828125 45.03125 45.53125 \nQ 48.578125 48.25 48.578125 53.8125 \nQ 48.578125 59.328125 45.03125 62.0625 \nQ 41.5 64.796875 34.28125 64.796875 \nz\nM 9.8125 72.90625 \nL 35.015625 72.90625 \nQ 46.296875 72.90625 52.390625 68.21875 \nQ 58.5 63.53125 58.5 54.890625 \nQ 58.5 48.1875 55.375 44.234375 \nQ 52.25 40.28125 46.1875 39.3125 \nQ 53.46875 37.75 57.5 32.78125 \nQ 61.53125 27.828125 61.53125 20.40625 \nQ 61.53125 10.640625 54.890625 5.3125 \nQ 48.25 0 35.984375 0 \nL 9.8125 0 \nz\n\" id=\"DejaVuSans-66\"/>\n       </defs>\n       <use xlink:href=\"#DejaVuSans-86\"/>\n       <use x=\"68.408203\" xlink:href=\"#DejaVuSans-66\"/>\n      </g>\n     </g>\n    </g>\n    <g id=\"xtick_4\">\n     <g id=\"line2d_7\">\n      <path clip-path=\"url(#pc65b87b26e)\" d=\"M 80.08755 224.64 \nL 80.08755 7.2 \n\" style=\"fill:none;stroke:#c0c0c0;stroke-linecap:square;stroke-width:0.8;\"/>\n     </g>\n     <g id=\"line2d_8\">\n      <g>\n       <use style=\"stroke:#000000;stroke-width:0.8;\" x=\"80.08755\" xlink:href=\"#m29483222ba\" y=\"224.64\"/>\n      </g>\n     </g>\n     <g id=\"text_4\">\n      <!-- NN-TL -->\n      <g transform=\"translate(82.846925 260.9775)rotate(-90)scale(0.1 -0.1)\">\n       <defs>\n        <path d=\"M 4.890625 31.390625 \nL 31.203125 31.390625 \nL 31.203125 23.390625 \nL 4.890625 23.390625 \nz\n\" id=\"DejaVuSans-45\"/>\n        <path d=\"M -0.296875 72.90625 \nL 61.375 72.90625 \nL 61.375 64.59375 \nL 35.5 64.59375 \nL 35.5 0 \nL 25.59375 0 \nL 25.59375 64.59375 \nL -0.296875 64.59375 \nz\n\" id=\"DejaVuSans-84\"/>\n        <path d=\"M 9.8125 72.90625 \nL 19.671875 72.90625 \nL 19.671875 8.296875 \nL 55.171875 8.296875 \nL 55.171875 0 \nL 9.8125 0 \nz\n\" id=\"DejaVuSans-76\"/>\n       </defs>\n       <use xlink:href=\"#DejaVuSans-78\"/>\n       <use x=\"74.804688\" xlink:href=\"#DejaVuSans-78\"/>\n       <use x=\"149.609375\" xlink:href=\"#DejaVuSans-45\"/>\n       <use x=\"176.568359\" xlink:href=\"#DejaVuSans-84\"/>\n       <use x=\"237.652344\" xlink:href=\"#DejaVuSans-76\"/>\n      </g>\n     </g>\n    </g>\n    <g id=\"xtick_5\">\n     <g id=\"line2d_9\">\n      <path clip-path=\"url(#pc65b87b26e)\" d=\"M 86.055465 224.64 \nL 86.055465 7.2 \n\" style=\"fill:none;stroke:#c0c0c0;stroke-linecap:square;stroke-width:0.8;\"/>\n     </g>\n     <g id=\"line2d_10\">\n      <g>\n       <use style=\"stroke:#000000;stroke-width:0.8;\" x=\"86.055465\" xlink:href=\"#m29483222ba\" y=\"224.64\"/>\n      </g>\n     </g>\n     <g id=\"text_5\">\n      <!-- NN-HL -->\n      <g transform=\"translate(88.81484 263.3025)rotate(-90)scale(0.1 -0.1)\">\n       <defs>\n        <path d=\"M 9.8125 72.90625 \nL 19.671875 72.90625 \nL 19.671875 43.015625 \nL 55.515625 43.015625 \nL 55.515625 72.90625 \nL 65.375 72.90625 \nL 65.375 0 \nL 55.515625 0 \nL 55.515625 34.71875 \nL 19.671875 34.71875 \nL 19.671875 0 \nL 9.8125 0 \nz\n\" id=\"DejaVuSans-72\"/>\n       </defs>\n       <use xlink:href=\"#DejaVuSans-78\"/>\n       <use x=\"74.804688\" xlink:href=\"#DejaVuSans-78\"/>\n       <use x=\"149.609375\" xlink:href=\"#DejaVuSans-45\"/>\n       <use x=\"185.693359\" xlink:href=\"#DejaVuSans-72\"/>\n       <use x=\"260.888672\" xlink:href=\"#DejaVuSans-76\"/>\n      </g>\n     </g>\n    </g>\n    <g id=\"xtick_6\">\n     <g id=\"line2d_11\">\n      <path clip-path=\"url(#pc65b87b26e)\" d=\"M 92.023379 224.64 \nL 92.023379 7.2 \n\" style=\"fill:none;stroke:#c0c0c0;stroke-linecap:square;stroke-width:0.8;\"/>\n     </g>\n     <g id=\"line2d_12\">\n      <g>\n       <use style=\"stroke:#000000;stroke-width:0.8;\" x=\"92.023379\" xlink:href=\"#m29483222ba\" y=\"224.64\"/>\n      </g>\n     </g>\n     <g id=\"text_6\">\n      <!-- VBG -->\n      <g transform=\"translate(94.782754 252.915)rotate(-90)scale(0.1 -0.1)\">\n       <defs>\n        <path d=\"M 59.515625 10.40625 \nL 59.515625 29.984375 \nL 43.40625 29.984375 \nL 43.40625 38.09375 \nL 69.28125 38.09375 \nL 69.28125 6.78125 \nQ 63.578125 2.734375 56.6875 0.65625 \nQ 49.8125 -1.421875 42 -1.421875 \nQ 24.90625 -1.421875 15.25 8.5625 \nQ 5.609375 18.5625 5.609375 36.375 \nQ 5.609375 54.25 15.25 64.234375 \nQ 24.90625 74.21875 42 74.21875 \nQ 49.125 74.21875 55.546875 72.453125 \nQ 61.96875 70.703125 67.390625 67.28125 \nL 67.390625 56.78125 \nQ 61.921875 61.421875 55.765625 63.765625 \nQ 49.609375 66.109375 42.828125 66.109375 \nQ 29.4375 66.109375 22.71875 58.640625 \nQ 16.015625 51.171875 16.015625 36.375 \nQ 16.015625 21.625 22.71875 14.15625 \nQ 29.4375 6.6875 42.828125 6.6875 \nQ 48.046875 6.6875 52.140625 7.59375 \nQ 56.25 8.5 59.515625 10.40625 \nz\n\" id=\"DejaVuSans-71\"/>\n       </defs>\n       <use xlink:href=\"#DejaVuSans-86\"/>\n       <use x=\"68.408203\" xlink:href=\"#DejaVuSans-66\"/>\n       <use x=\"135.261719\" xlink:href=\"#DejaVuSans-71\"/>\n      </g>\n     </g>\n    </g>\n    <g id=\"xtick_7\">\n     <g id=\"line2d_13\">\n      <path clip-path=\"url(#pc65b87b26e)\" d=\"M 97.991293 224.64 \nL 97.991293 7.2 \n\" style=\"fill:none;stroke:#c0c0c0;stroke-linecap:square;stroke-width:0.8;\"/>\n     </g>\n     <g id=\"line2d_14\">\n      <g>\n       <use style=\"stroke:#000000;stroke-width:0.8;\" x=\"97.991293\" xlink:href=\"#m29483222ba\" y=\"224.64\"/>\n      </g>\n     </g>\n     <g id=\"text_7\">\n      <!-- NNS -->\n      <g transform=\"translate(100.750668 252.950937)rotate(-90)scale(0.1 -0.1)\">\n       <defs>\n        <path d=\"M 53.515625 70.515625 \nL 53.515625 60.890625 \nQ 47.90625 63.578125 42.921875 64.890625 \nQ 37.9375 66.21875 33.296875 66.21875 \nQ 25.25 66.21875 20.875 63.09375 \nQ 16.5 59.96875 16.5 54.203125 \nQ 16.5 49.359375 19.40625 46.890625 \nQ 22.3125 44.4375 30.421875 42.921875 \nL 36.375 41.703125 \nQ 47.40625 39.59375 52.65625 34.296875 \nQ 57.90625 29 57.90625 20.125 \nQ 57.90625 9.515625 50.796875 4.046875 \nQ 43.703125 -1.421875 29.984375 -1.421875 \nQ 24.8125 -1.421875 18.96875 -0.25 \nQ 13.140625 0.921875 6.890625 3.21875 \nL 6.890625 13.375 \nQ 12.890625 10.015625 18.65625 8.296875 \nQ 24.421875 6.59375 29.984375 6.59375 \nQ 38.421875 6.59375 43.015625 9.90625 \nQ 47.609375 13.234375 47.609375 19.390625 \nQ 47.609375 24.75 44.3125 27.78125 \nQ 41.015625 30.8125 33.5 32.328125 \nL 27.484375 33.5 \nQ 16.453125 35.6875 11.515625 40.375 \nQ 6.59375 45.0625 6.59375 53.421875 \nQ 6.59375 63.09375 13.40625 68.65625 \nQ 20.21875 74.21875 32.171875 74.21875 \nQ 37.3125 74.21875 42.625 73.28125 \nQ 47.953125 72.359375 53.515625 70.515625 \nz\n\" id=\"DejaVuSans-83\"/>\n       </defs>\n       <use xlink:href=\"#DejaVuSans-78\"/>\n       <use x=\"74.804688\" xlink:href=\"#DejaVuSans-78\"/>\n       <use x=\"149.609375\" xlink:href=\"#DejaVuSans-83\"/>\n      </g>\n     </g>\n    </g>\n    <g id=\"xtick_8\">\n     <g id=\"line2d_15\">\n      <path clip-path=\"url(#pc65b87b26e)\" d=\"M 103.959208 224.64 \nL 103.959208 7.2 \n\" style=\"fill:none;stroke:#c0c0c0;stroke-linecap:square;stroke-width:0.8;\"/>\n     </g>\n     <g id=\"line2d_16\">\n      <g>\n       <use style=\"stroke:#000000;stroke-width:0.8;\" x=\"103.959208\" xlink:href=\"#m29483222ba\" y=\"224.64\"/>\n      </g>\n     </g>\n     <g id=\"text_8\">\n      <!-- CD -->\n      <g transform=\"translate(106.718583 246.322812)rotate(-90)scale(0.1 -0.1)\">\n       <defs>\n        <path d=\"M 64.40625 67.28125 \nL 64.40625 56.890625 \nQ 59.421875 61.53125 53.78125 63.8125 \nQ 48.140625 66.109375 41.796875 66.109375 \nQ 29.296875 66.109375 22.65625 58.46875 \nQ 16.015625 50.828125 16.015625 36.375 \nQ 16.015625 21.96875 22.65625 14.328125 \nQ 29.296875 6.6875 41.796875 6.6875 \nQ 48.140625 6.6875 53.78125 8.984375 \nQ 59.421875 11.28125 64.40625 15.921875 \nL 64.40625 5.609375 \nQ 59.234375 2.09375 53.4375 0.328125 \nQ 47.65625 -1.421875 41.21875 -1.421875 \nQ 24.65625 -1.421875 15.125 8.703125 \nQ 5.609375 18.84375 5.609375 36.375 \nQ 5.609375 53.953125 15.125 64.078125 \nQ 24.65625 74.21875 41.21875 74.21875 \nQ 47.75 74.21875 53.53125 72.484375 \nQ 59.328125 70.75 64.40625 67.28125 \nz\n\" id=\"DejaVuSans-67\"/>\n        <path d=\"M 19.671875 64.796875 \nL 19.671875 8.109375 \nL 31.59375 8.109375 \nQ 46.6875 8.109375 53.6875 14.9375 \nQ 60.6875 21.78125 60.6875 36.53125 \nQ 60.6875 51.171875 53.6875 57.984375 \nQ 46.6875 64.796875 31.59375 64.796875 \nz\nM 9.8125 72.90625 \nL 30.078125 72.90625 \nQ 51.265625 72.90625 61.171875 64.09375 \nQ 71.09375 55.28125 71.09375 36.53125 \nQ 71.09375 17.671875 61.125 8.828125 \nQ 51.171875 0 30.078125 0 \nL 9.8125 0 \nz\n\" id=\"DejaVuSans-68\"/>\n       </defs>\n       <use xlink:href=\"#DejaVuSans-67\"/>\n       <use x=\"69.824219\" xlink:href=\"#DejaVuSans-68\"/>\n      </g>\n     </g>\n    </g>\n    <g id=\"xtick_9\">\n     <g id=\"line2d_17\">\n      <path clip-path=\"url(#pc65b87b26e)\" d=\"M 109.927122 224.64 \nL 109.927122 7.2 \n\" style=\"fill:none;stroke:#c0c0c0;stroke-linecap:square;stroke-width:0.8;\"/>\n     </g>\n     <g id=\"line2d_18\">\n      <g>\n       <use style=\"stroke:#000000;stroke-width:0.8;\" x=\"109.927122\" xlink:href=\"#m29483222ba\" y=\"224.64\"/>\n      </g>\n     </g>\n     <g id=\"text_9\">\n      <!-- NP-TL -->\n      <g transform=\"translate(112.686497 259.300937)rotate(-90)scale(0.1 -0.1)\">\n       <use xlink:href=\"#DejaVuSans-78\"/>\n       <use x=\"74.804688\" xlink:href=\"#DejaVuSans-80\"/>\n       <use x=\"132.857422\" xlink:href=\"#DejaVuSans-45\"/>\n       <use x=\"159.816406\" xlink:href=\"#DejaVuSans-84\"/>\n       <use x=\"220.900391\" xlink:href=\"#DejaVuSans-76\"/>\n      </g>\n     </g>\n    </g>\n    <g id=\"xtick_10\">\n     <g id=\"line2d_19\">\n      <path clip-path=\"url(#pc65b87b26e)\" d=\"M 115.895037 224.64 \nL 115.895037 7.2 \n\" style=\"fill:none;stroke:#c0c0c0;stroke-linecap:square;stroke-width:0.8;\"/>\n     </g>\n     <g id=\"line2d_20\">\n      <g>\n       <use style=\"stroke:#000000;stroke-width:0.8;\" x=\"115.895037\" xlink:href=\"#m29483222ba\" y=\"224.64\"/>\n      </g>\n     </g>\n     <g id=\"text_10\">\n      <!-- JJ-TL -->\n      <g transform=\"translate(118.654412 251.5525)rotate(-90)scale(0.1 -0.1)\">\n       <use xlink:href=\"#DejaVuSans-74\"/>\n       <use x=\"29.492188\" xlink:href=\"#DejaVuSans-74\"/>\n       <use x=\"55.359375\" xlink:href=\"#DejaVuSans-45\"/>\n       <use x=\"82.318359\" xlink:href=\"#DejaVuSans-84\"/>\n       <use x=\"143.402344\" xlink:href=\"#DejaVuSans-76\"/>\n      </g>\n     </g>\n    </g>\n    <g id=\"xtick_11\">\n     <g id=\"line2d_21\">\n      <path clip-path=\"url(#pc65b87b26e)\" d=\"M 121.862951 224.64 \nL 121.862951 7.2 \n\" style=\"fill:none;stroke:#c0c0c0;stroke-linecap:square;stroke-width:0.8;\"/>\n     </g>\n     <g id=\"line2d_22\">\n      <g>\n       <use style=\"stroke:#000000;stroke-width:0.8;\" x=\"121.862951\" xlink:href=\"#m29483222ba\" y=\"224.64\"/>\n      </g>\n     </g>\n     <g id=\"text_11\">\n      <!-- NR -->\n      <g transform=\"translate(124.622326 246.069687)rotate(-90)scale(0.1 -0.1)\">\n       <defs>\n        <path d=\"M 44.390625 34.1875 \nQ 47.5625 33.109375 50.5625 29.59375 \nQ 53.5625 26.078125 56.59375 19.921875 \nL 66.609375 0 \nL 56 0 \nL 46.6875 18.703125 \nQ 43.0625 26.03125 39.671875 28.421875 \nQ 36.28125 30.8125 30.421875 30.8125 \nL 19.671875 30.8125 \nL 19.671875 0 \nL 9.8125 0 \nL 9.8125 72.90625 \nL 32.078125 72.90625 \nQ 44.578125 72.90625 50.734375 67.671875 \nQ 56.890625 62.453125 56.890625 51.90625 \nQ 56.890625 45.015625 53.6875 40.46875 \nQ 50.484375 35.9375 44.390625 34.1875 \nz\nM 19.671875 64.796875 \nL 19.671875 38.921875 \nL 32.078125 38.921875 \nQ 39.203125 38.921875 42.84375 42.21875 \nQ 46.484375 45.515625 46.484375 51.90625 \nQ 46.484375 58.296875 42.84375 61.546875 \nQ 39.203125 64.796875 32.078125 64.796875 \nz\n\" id=\"DejaVuSans-82\"/>\n       </defs>\n       <use xlink:href=\"#DejaVuSans-78\"/>\n       <use x=\"74.804688\" xlink:href=\"#DejaVuSans-82\"/>\n      </g>\n     </g>\n    </g>\n    <g id=\"xtick_12\">\n     <g id=\"line2d_23\">\n      <path clip-path=\"url(#pc65b87b26e)\" d=\"M 127.830866 224.64 \nL 127.830866 7.2 \n\" style=\"fill:none;stroke:#c0c0c0;stroke-linecap:square;stroke-width:0.8;\"/>\n     </g>\n     <g id=\"line2d_24\">\n      <g>\n       <use style=\"stroke:#000000;stroke-width:0.8;\" x=\"127.830866\" xlink:href=\"#m29483222ba\" y=\"224.64\"/>\n      </g>\n     </g>\n     <g id=\"text_12\">\n      <!-- VBN -->\n      <g transform=\"translate(130.590241 252.822812)rotate(-90)scale(0.1 -0.1)\">\n       <use xlink:href=\"#DejaVuSans-86\"/>\n       <use x=\"68.408203\" xlink:href=\"#DejaVuSans-66\"/>\n       <use x=\"137.011719\" xlink:href=\"#DejaVuSans-78\"/>\n      </g>\n     </g>\n    </g>\n    <g id=\"xtick_13\">\n     <g id=\"line2d_25\">\n      <path clip-path=\"url(#pc65b87b26e)\" d=\"M 133.79878 224.64 \nL 133.79878 7.2 \n\" style=\"fill:none;stroke:#c0c0c0;stroke-linecap:square;stroke-width:0.8;\"/>\n     </g>\n     <g id=\"line2d_26\">\n      <g>\n       <use style=\"stroke:#000000;stroke-width:0.8;\" x=\"133.79878\" xlink:href=\"#m29483222ba\" y=\"224.64\"/>\n      </g>\n     </g>\n     <g id=\"text_13\">\n      <!-- OD -->\n      <g transform=\"translate(136.558155 247.211875)rotate(-90)scale(0.1 -0.1)\">\n       <defs>\n        <path d=\"M 39.40625 66.21875 \nQ 28.65625 66.21875 22.328125 58.203125 \nQ 16.015625 50.203125 16.015625 36.375 \nQ 16.015625 22.609375 22.328125 14.59375 \nQ 28.65625 6.59375 39.40625 6.59375 \nQ 50.140625 6.59375 56.421875 14.59375 \nQ 62.703125 22.609375 62.703125 36.375 \nQ 62.703125 50.203125 56.421875 58.203125 \nQ 50.140625 66.21875 39.40625 66.21875 \nz\nM 39.40625 74.21875 \nQ 54.734375 74.21875 63.90625 63.9375 \nQ 73.09375 53.65625 73.09375 36.375 \nQ 73.09375 19.140625 63.90625 8.859375 \nQ 54.734375 -1.421875 39.40625 -1.421875 \nQ 24.03125 -1.421875 14.8125 8.828125 \nQ 5.609375 19.09375 5.609375 36.375 \nQ 5.609375 53.65625 14.8125 63.9375 \nQ 24.03125 74.21875 39.40625 74.21875 \nz\n\" id=\"DejaVuSans-79\"/>\n       </defs>\n       <use xlink:href=\"#DejaVuSans-79\"/>\n       <use x=\"78.710938\" xlink:href=\"#DejaVuSans-68\"/>\n      </g>\n     </g>\n    </g>\n    <g id=\"xtick_14\">\n     <g id=\"line2d_27\">\n      <path clip-path=\"url(#pc65b87b26e)\" d=\"M 139.766695 224.64 \nL 139.766695 7.2 \n\" style=\"fill:none;stroke:#c0c0c0;stroke-linecap:square;stroke-width:0.8;\"/>\n     </g>\n     <g id=\"line2d_28\">\n      <g>\n       <use style=\"stroke:#000000;stroke-width:0.8;\" x=\"139.766695\" xlink:href=\"#m29483222ba\" y=\"224.64\"/>\n      </g>\n     </g>\n     <g id=\"text_14\">\n      <!-- RB -->\n      <g transform=\"translate(142.52607 245.449375)rotate(-90)scale(0.1 -0.1)\">\n       <use xlink:href=\"#DejaVuSans-82\"/>\n       <use x=\"69.482422\" xlink:href=\"#DejaVuSans-66\"/>\n      </g>\n     </g>\n    </g>\n    <g id=\"xtick_15\">\n     <g id=\"line2d_29\">\n      <path clip-path=\"url(#pc65b87b26e)\" d=\"M 145.734609 224.64 \nL 145.734609 7.2 \n\" style=\"fill:none;stroke:#c0c0c0;stroke-linecap:square;stroke-width:0.8;\"/>\n     </g>\n     <g id=\"line2d_30\">\n      <g>\n       <use style=\"stroke:#000000;stroke-width:0.8;\" x=\"145.734609\" xlink:href=\"#m29483222ba\" y=\"224.64\"/>\n      </g>\n     </g>\n     <g id=\"text_15\">\n      <!-- VBD -->\n      <g transform=\"translate(148.493984 253.041562)rotate(-90)scale(0.1 -0.1)\">\n       <use xlink:href=\"#DejaVuSans-86\"/>\n       <use x=\"68.408203\" xlink:href=\"#DejaVuSans-66\"/>\n       <use x=\"137.011719\" xlink:href=\"#DejaVuSans-68\"/>\n      </g>\n     </g>\n    </g>\n    <g id=\"xtick_16\">\n     <g id=\"line2d_31\">\n      <path clip-path=\"url(#pc65b87b26e)\" d=\"M 151.702523 224.64 \nL 151.702523 7.2 \n\" style=\"fill:none;stroke:#c0c0c0;stroke-linecap:square;stroke-width:0.8;\"/>\n     </g>\n     <g id=\"line2d_32\">\n      <g>\n       <use style=\"stroke:#000000;stroke-width:0.8;\" x=\"151.702523\" xlink:href=\"#m29483222ba\" y=\"224.64\"/>\n      </g>\n     </g>\n     <g id=\"text_16\">\n      <!-- JJR -->\n      <g transform=\"translate(154.461898 244.488437)rotate(-90)scale(0.1 -0.1)\">\n       <use xlink:href=\"#DejaVuSans-74\"/>\n       <use x=\"29.492188\" xlink:href=\"#DejaVuSans-74\"/>\n       <use x=\"58.984375\" xlink:href=\"#DejaVuSans-82\"/>\n      </g>\n     </g>\n    </g>\n    <g id=\"xtick_17\">\n     <g id=\"line2d_33\">\n      <path clip-path=\"url(#pc65b87b26e)\" d=\"M 157.670438 224.64 \nL 157.670438 7.2 \n\" style=\"fill:none;stroke:#c0c0c0;stroke-linecap:square;stroke-width:0.8;\"/>\n     </g>\n     <g id=\"line2d_34\">\n      <g>\n       <use style=\"stroke:#000000;stroke-width:0.8;\" x=\"157.670438\" xlink:href=\"#m29483222ba\" y=\"224.64\"/>\n      </g>\n     </g>\n     <g id=\"text_17\">\n      <!-- JJS -->\n      <g transform=\"translate(160.429813 243.888437)rotate(-90)scale(0.1 -0.1)\">\n       <use xlink:href=\"#DejaVuSans-74\"/>\n       <use x=\"29.492188\" xlink:href=\"#DejaVuSans-74\"/>\n       <use x=\"58.984375\" xlink:href=\"#DejaVuSans-83\"/>\n      </g>\n     </g>\n    </g>\n    <g id=\"xtick_18\">\n     <g id=\"line2d_35\">\n      <path clip-path=\"url(#pc65b87b26e)\" d=\"M 163.638352 224.64 \nL 163.638352 7.2 \n\" style=\"fill:none;stroke:#c0c0c0;stroke-linecap:square;stroke-width:0.8;\"/>\n     </g>\n     <g id=\"line2d_36\">\n      <g>\n       <use style=\"stroke:#000000;stroke-width:0.8;\" x=\"163.638352\" xlink:href=\"#m29483222ba\" y=\"224.64\"/>\n      </g>\n     </g>\n     <g id=\"text_18\">\n      <!-- FW-NN -->\n      <g transform=\"translate(166.397727 265.449375)rotate(-90)scale(0.1 -0.1)\">\n       <defs>\n        <path d=\"M 9.8125 72.90625 \nL 51.703125 72.90625 \nL 51.703125 64.59375 \nL 19.671875 64.59375 \nL 19.671875 43.109375 \nL 48.578125 43.109375 \nL 48.578125 34.8125 \nL 19.671875 34.8125 \nL 19.671875 0 \nL 9.8125 0 \nz\n\" id=\"DejaVuSans-70\"/>\n        <path d=\"M 3.328125 72.90625 \nL 13.28125 72.90625 \nL 28.609375 11.28125 \nL 43.890625 72.90625 \nL 54.984375 72.90625 \nL 70.3125 11.28125 \nL 85.59375 72.90625 \nL 95.609375 72.90625 \nL 77.296875 0 \nL 64.890625 0 \nL 49.515625 63.28125 \nL 33.984375 0 \nL 21.578125 0 \nz\n\" id=\"DejaVuSans-87\"/>\n       </defs>\n       <use xlink:href=\"#DejaVuSans-70\"/>\n       <use x=\"57.519531\" xlink:href=\"#DejaVuSans-87\"/>\n       <use x=\"152.396484\" xlink:href=\"#DejaVuSans-45\"/>\n       <use x=\"188.480469\" xlink:href=\"#DejaVuSans-78\"/>\n       <use x=\"263.285156\" xlink:href=\"#DejaVuSans-78\"/>\n      </g>\n     </g>\n    </g>\n    <g id=\"xtick_19\">\n     <g id=\"line2d_37\">\n      <path clip-path=\"url(#pc65b87b26e)\" d=\"M 169.606267 224.64 \nL 169.606267 7.2 \n\" style=\"fill:none;stroke:#c0c0c0;stroke-linecap:square;stroke-width:0.8;\"/>\n     </g>\n     <g id=\"line2d_38\">\n      <g>\n       <use style=\"stroke:#000000;stroke-width:0.8;\" x=\"169.606267\" xlink:href=\"#m29483222ba\" y=\"224.64\"/>\n      </g>\n     </g>\n     <g id=\"text_19\">\n      <!-- NNS$ -->\n      <g transform=\"translate(172.365642 259.313437)rotate(-90)scale(0.1 -0.1)\">\n       <defs>\n        <path d=\"M 33.796875 -14.703125 \nL 28.90625 -14.703125 \nL 28.859375 0 \nQ 23.734375 0.09375 18.609375 1.1875 \nQ 13.484375 2.296875 8.296875 4.5 \nL 8.296875 13.28125 \nQ 13.28125 10.15625 18.375 8.5625 \nQ 23.484375 6.984375 28.90625 6.9375 \nL 28.90625 29.203125 \nQ 18.109375 30.953125 13.203125 35.15625 \nQ 8.296875 39.359375 8.296875 46.6875 \nQ 8.296875 54.640625 13.625 59.21875 \nQ 18.953125 63.8125 28.90625 64.5 \nL 28.90625 75.984375 \nL 33.796875 75.984375 \nL 33.796875 64.65625 \nQ 38.328125 64.453125 42.578125 63.6875 \nQ 46.828125 62.9375 50.875 61.625 \nL 50.875 53.078125 \nQ 46.828125 55.125 42.546875 56.25 \nQ 38.28125 57.375 33.796875 57.5625 \nL 33.796875 36.71875 \nQ 44.875 35.015625 50.09375 30.609375 \nQ 55.328125 26.21875 55.328125 18.609375 \nQ 55.328125 10.359375 49.78125 5.59375 \nQ 44.234375 0.828125 33.796875 0.09375 \nz\nM 28.90625 37.59375 \nL 28.90625 57.625 \nQ 23.25 56.984375 20.265625 54.390625 \nQ 17.28125 51.8125 17.28125 47.515625 \nQ 17.28125 43.3125 20.03125 40.96875 \nQ 22.796875 38.625 28.90625 37.59375 \nz\nM 33.796875 28.21875 \nL 33.796875 7.078125 \nQ 39.984375 7.90625 43.140625 10.59375 \nQ 46.296875 13.28125 46.296875 17.671875 \nQ 46.296875 21.96875 43.28125 24.5 \nQ 40.28125 27.046875 33.796875 28.21875 \nz\n\" id=\"DejaVuSans-36\"/>\n       </defs>\n       <use xlink:href=\"#DejaVuSans-78\"/>\n       <use x=\"74.804688\" xlink:href=\"#DejaVuSans-78\"/>\n       <use x=\"149.609375\" xlink:href=\"#DejaVuSans-83\"/>\n       <use x=\"213.085938\" xlink:href=\"#DejaVuSans-36\"/>\n      </g>\n     </g>\n    </g>\n    <g id=\"xtick_20\">\n     <g id=\"line2d_39\">\n      <path clip-path=\"url(#pc65b87b26e)\" d=\"M 175.574181 224.64 \nL 175.574181 7.2 \n\" style=\"fill:none;stroke:#c0c0c0;stroke-linecap:square;stroke-width:0.8;\"/>\n     </g>\n     <g id=\"line2d_40\">\n      <g>\n       <use style=\"stroke:#000000;stroke-width:0.8;\" x=\"175.574181\" xlink:href=\"#m29483222ba\" y=\"224.64\"/>\n      </g>\n     </g>\n     <g id=\"text_20\">\n      <!-- IN -->\n      <g transform=\"translate(178.333556 242.07125)rotate(-90)scale(0.1 -0.1)\">\n       <defs>\n        <path d=\"M 9.8125 72.90625 \nL 19.671875 72.90625 \nL 19.671875 0 \nL 9.8125 0 \nz\n\" id=\"DejaVuSans-73\"/>\n       </defs>\n       <use xlink:href=\"#DejaVuSans-73\"/>\n       <use x=\"29.492188\" xlink:href=\"#DejaVuSans-78\"/>\n      </g>\n     </g>\n    </g>\n    <g id=\"xtick_21\">\n     <g id=\"line2d_41\">\n      <path clip-path=\"url(#pc65b87b26e)\" d=\"M 181.542096 224.64 \nL 181.542096 7.2 \n\" style=\"fill:none;stroke:#c0c0c0;stroke-linecap:square;stroke-width:0.8;\"/>\n     </g>\n     <g id=\"line2d_42\">\n      <g>\n       <use style=\"stroke:#000000;stroke-width:0.8;\" x=\"181.542096\" xlink:href=\"#m29483222ba\" y=\"224.64\"/>\n      </g>\n     </g>\n     <g id=\"text_21\">\n      <!-- JJT -->\n      <g transform=\"translate(184.301471 243.647812)rotate(-90)scale(0.1 -0.1)\">\n       <use xlink:href=\"#DejaVuSans-74\"/>\n       <use x=\"29.492188\" xlink:href=\"#DejaVuSans-74\"/>\n       <use x=\"58.984375\" xlink:href=\"#DejaVuSans-84\"/>\n      </g>\n     </g>\n    </g>\n    <g id=\"xtick_22\">\n     <g id=\"line2d_43\">\n      <path clip-path=\"url(#pc65b87b26e)\" d=\"M 187.51001 224.64 \nL 187.51001 7.2 \n\" style=\"fill:none;stroke:#c0c0c0;stroke-linecap:square;stroke-width:0.8;\"/>\n     </g>\n     <g id=\"line2d_44\">\n      <g>\n       <use style=\"stroke:#000000;stroke-width:0.8;\" x=\"187.51001\" xlink:href=\"#m29483222ba\" y=\"224.64\"/>\n      </g>\n     </g>\n     <g id=\"text_22\">\n      <!-- JJ-HL -->\n      <g transform=\"translate(190.269385 253.8775)rotate(-90)scale(0.1 -0.1)\">\n       <use xlink:href=\"#DejaVuSans-74\"/>\n       <use x=\"29.492188\" xlink:href=\"#DejaVuSans-74\"/>\n       <use x=\"55.359375\" xlink:href=\"#DejaVuSans-45\"/>\n       <use x=\"91.443359\" xlink:href=\"#DejaVuSans-72\"/>\n       <use x=\"166.638672\" xlink:href=\"#DejaVuSans-76\"/>\n      </g>\n     </g>\n    </g>\n    <g id=\"xtick_23\">\n     <g id=\"line2d_45\">\n      <path clip-path=\"url(#pc65b87b26e)\" d=\"M 193.477924 224.64 \nL 193.477924 7.2 \n\" style=\"fill:none;stroke:#c0c0c0;stroke-linecap:square;stroke-width:0.8;\"/>\n     </g>\n     <g id=\"line2d_46\">\n      <g>\n       <use style=\"stroke:#000000;stroke-width:0.8;\" x=\"193.477924\" xlink:href=\"#m29483222ba\" y=\"224.64\"/>\n      </g>\n     </g>\n     <g id=\"text_23\">\n      <!-- AP -->\n      <g transform=\"translate(196.237299 244.510312)rotate(-90)scale(0.1 -0.1)\">\n       <defs>\n        <path d=\"M 34.1875 63.1875 \nL 20.796875 26.90625 \nL 47.609375 26.90625 \nz\nM 28.609375 72.90625 \nL 39.796875 72.90625 \nL 67.578125 0 \nL 57.328125 0 \nL 50.6875 18.703125 \nL 17.828125 18.703125 \nL 11.1875 0 \nL 0.78125 0 \nz\n\" id=\"DejaVuSans-65\"/>\n       </defs>\n       <use xlink:href=\"#DejaVuSans-65\"/>\n       <use x=\"68.408203\" xlink:href=\"#DejaVuSans-80\"/>\n      </g>\n     </g>\n    </g>\n    <g id=\"xtick_24\">\n     <g id=\"line2d_47\">\n      <path clip-path=\"url(#pc65b87b26e)\" d=\"M 199.445839 224.64 \nL 199.445839 7.2 \n\" style=\"fill:none;stroke:#c0c0c0;stroke-linecap:square;stroke-width:0.8;\"/>\n     </g>\n     <g id=\"line2d_48\">\n      <g>\n       <use style=\"stroke:#000000;stroke-width:0.8;\" x=\"199.445839\" xlink:href=\"#m29483222ba\" y=\"224.64\"/>\n      </g>\n     </g>\n     <g id=\"text_24\">\n      <!-- NP$ -->\n      <g transform=\"translate(202.205214 251.513437)rotate(-90)scale(0.1 -0.1)\">\n       <use xlink:href=\"#DejaVuSans-78\"/>\n       <use x=\"74.804688\" xlink:href=\"#DejaVuSans-80\"/>\n       <use x=\"135.107422\" xlink:href=\"#DejaVuSans-36\"/>\n      </g>\n     </g>\n    </g>\n    <g id=\"xtick_25\">\n     <g id=\"line2d_49\">\n      <path clip-path=\"url(#pc65b87b26e)\" d=\"M 205.413753 224.64 \nL 205.413753 7.2 \n\" style=\"fill:none;stroke:#c0c0c0;stroke-linecap:square;stroke-width:0.8;\"/>\n     </g>\n     <g id=\"line2d_50\">\n      <g>\n       <use style=\"stroke:#000000;stroke-width:0.8;\" x=\"205.413753\" xlink:href=\"#m29483222ba\" y=\"224.64\"/>\n      </g>\n     </g>\n     <g id=\"text_25\">\n      <!-- QL -->\n      <g transform=\"translate(208.173128 245.08375)rotate(-90)scale(0.1 -0.1)\">\n       <defs>\n        <path d=\"M 39.40625 66.21875 \nQ 28.65625 66.21875 22.328125 58.203125 \nQ 16.015625 50.203125 16.015625 36.375 \nQ 16.015625 22.609375 22.328125 14.59375 \nQ 28.65625 6.59375 39.40625 6.59375 \nQ 50.140625 6.59375 56.421875 14.59375 \nQ 62.703125 22.609375 62.703125 36.375 \nQ 62.703125 50.203125 56.421875 58.203125 \nQ 50.140625 66.21875 39.40625 66.21875 \nz\nM 53.21875 1.3125 \nL 66.21875 -12.890625 \nL 54.296875 -12.890625 \nL 43.5 -1.21875 \nQ 41.890625 -1.3125 41.03125 -1.359375 \nQ 40.1875 -1.421875 39.40625 -1.421875 \nQ 24.03125 -1.421875 14.8125 8.859375 \nQ 5.609375 19.140625 5.609375 36.375 \nQ 5.609375 53.65625 14.8125 63.9375 \nQ 24.03125 74.21875 39.40625 74.21875 \nQ 54.734375 74.21875 63.90625 63.9375 \nQ 73.09375 53.65625 73.09375 36.375 \nQ 73.09375 23.6875 67.984375 14.640625 \nQ 62.890625 5.609375 53.21875 1.3125 \nz\n\" id=\"DejaVuSans-81\"/>\n       </defs>\n       <use xlink:href=\"#DejaVuSans-81\"/>\n       <use x=\"78.710938\" xlink:href=\"#DejaVuSans-76\"/>\n      </g>\n     </g>\n    </g>\n    <g id=\"xtick_26\">\n     <g id=\"line2d_51\">\n      <path clip-path=\"url(#pc65b87b26e)\" d=\"M 211.381668 224.64 \nL 211.381668 7.2 \n\" style=\"fill:none;stroke:#c0c0c0;stroke-linecap:square;stroke-width:0.8;\"/>\n     </g>\n     <g id=\"line2d_52\">\n      <g>\n       <use style=\"stroke:#000000;stroke-width:0.8;\" x=\"211.381668\" xlink:href=\"#m29483222ba\" y=\"224.64\"/>\n      </g>\n     </g>\n     <g id=\"text_26\">\n      <!-- NPS -->\n      <g transform=\"translate(214.141043 251.499375)rotate(-90)scale(0.1 -0.1)\">\n       <use xlink:href=\"#DejaVuSans-78\"/>\n       <use x=\"74.804688\" xlink:href=\"#DejaVuSans-80\"/>\n       <use x=\"135.107422\" xlink:href=\"#DejaVuSans-83\"/>\n      </g>\n     </g>\n    </g>\n    <g id=\"xtick_27\">\n     <g id=\"line2d_53\">\n      <path clip-path=\"url(#pc65b87b26e)\" d=\"M 217.349582 224.64 \nL 217.349582 7.2 \n\" style=\"fill:none;stroke:#c0c0c0;stroke-linecap:square;stroke-width:0.8;\"/>\n     </g>\n     <g id=\"line2d_54\">\n      <g>\n       <use style=\"stroke:#000000;stroke-width:0.8;\" x=\"217.349582\" xlink:href=\"#m29483222ba\" y=\"224.64\"/>\n      </g>\n     </g>\n     <g id=\"text_27\">\n      <!-- FW-JJ-TL -->\n      <g transform=\"translate(220.108957 270.961875)rotate(-90)scale(0.1 -0.1)\">\n       <use xlink:href=\"#DejaVuSans-70\"/>\n       <use x=\"57.519531\" xlink:href=\"#DejaVuSans-87\"/>\n       <use x=\"152.396484\" xlink:href=\"#DejaVuSans-45\"/>\n       <use x=\"194.105469\" xlink:href=\"#DejaVuSans-74\"/>\n       <use x=\"223.597656\" xlink:href=\"#DejaVuSans-74\"/>\n       <use x=\"249.464844\" xlink:href=\"#DejaVuSans-45\"/>\n       <use x=\"276.423828\" xlink:href=\"#DejaVuSans-84\"/>\n       <use x=\"337.507812\" xlink:href=\"#DejaVuSans-76\"/>\n      </g>\n     </g>\n    </g>\n    <g id=\"xtick_28\">\n     <g id=\"line2d_55\">\n      <path clip-path=\"url(#pc65b87b26e)\" d=\"M 223.317497 224.64 \nL 223.317497 7.2 \n\" style=\"fill:none;stroke:#c0c0c0;stroke-linecap:square;stroke-width:0.8;\"/>\n     </g>\n     <g id=\"line2d_56\">\n      <g>\n       <use style=\"stroke:#000000;stroke-width:0.8;\" x=\"223.317497\" xlink:href=\"#m29483222ba\" y=\"224.64\"/>\n      </g>\n     </g>\n     <g id=\"text_28\">\n      <!-- FW-AT -->\n      <g transform=\"translate(226.076872 262.435312)rotate(-90)scale(0.1 -0.1)\">\n       <use xlink:href=\"#DejaVuSans-70\"/>\n       <use x=\"57.519531\" xlink:href=\"#DejaVuSans-87\"/>\n       <use x=\"152.396484\" xlink:href=\"#DejaVuSans-45\"/>\n       <use x=\"186.230469\" xlink:href=\"#DejaVuSans-65\"/>\n       <use x=\"246.888672\" xlink:href=\"#DejaVuSans-84\"/>\n      </g>\n     </g>\n    </g>\n    <g id=\"xtick_29\">\n     <g id=\"line2d_57\">\n      <path clip-path=\"url(#pc65b87b26e)\" d=\"M 229.285411 224.64 \nL 229.285411 7.2 \n\" style=\"fill:none;stroke:#c0c0c0;stroke-linecap:square;stroke-width:0.8;\"/>\n     </g>\n     <g id=\"line2d_58\">\n      <g>\n       <use style=\"stroke:#000000;stroke-width:0.8;\" x=\"229.285411\" xlink:href=\"#m29483222ba\" y=\"224.64\"/>\n      </g>\n     </g>\n     <g id=\"text_29\">\n      <!-- CD-TL -->\n      <g transform=\"translate(232.044786 260.697812)rotate(-90)scale(0.1 -0.1)\">\n       <use xlink:href=\"#DejaVuSans-67\"/>\n       <use x=\"69.824219\" xlink:href=\"#DejaVuSans-68\"/>\n       <use x=\"146.826172\" xlink:href=\"#DejaVuSans-45\"/>\n       <use x=\"173.785156\" xlink:href=\"#DejaVuSans-84\"/>\n       <use x=\"234.869141\" xlink:href=\"#DejaVuSans-76\"/>\n      </g>\n     </g>\n    </g>\n    <g id=\"xtick_30\">\n     <g id=\"line2d_59\">\n      <path clip-path=\"url(#pc65b87b26e)\" d=\"M 235.253326 224.64 \nL 235.253326 7.2 \n\" style=\"fill:none;stroke:#c0c0c0;stroke-linecap:square;stroke-width:0.8;\"/>\n     </g>\n     <g id=\"line2d_60\">\n      <g>\n       <use style=\"stroke:#000000;stroke-width:0.8;\" x=\"235.253326\" xlink:href=\"#m29483222ba\" y=\"224.64\"/>\n      </g>\n     </g>\n     <g id=\"text_30\">\n      <!-- VB-TL -->\n      <g transform=\"translate(238.012701 259.716562)rotate(-90)scale(0.1 -0.1)\">\n       <use xlink:href=\"#DejaVuSans-86\"/>\n       <use x=\"68.408203\" xlink:href=\"#DejaVuSans-66\"/>\n       <use x=\"137.011719\" xlink:href=\"#DejaVuSans-45\"/>\n       <use x=\"163.970703\" xlink:href=\"#DejaVuSans-84\"/>\n       <use x=\"225.054688\" xlink:href=\"#DejaVuSans-76\"/>\n      </g>\n     </g>\n    </g>\n    <g id=\"xtick_31\">\n     <g id=\"line2d_61\">\n      <path clip-path=\"url(#pc65b87b26e)\" d=\"M 241.22124 224.64 \nL 241.22124 7.2 \n\" style=\"fill:none;stroke:#c0c0c0;stroke-linecap:square;stroke-width:0.8;\"/>\n     </g>\n     <g id=\"line2d_62\">\n      <g>\n       <use style=\"stroke:#000000;stroke-width:0.8;\" x=\"241.22124\" xlink:href=\"#m29483222ba\" y=\"224.64\"/>\n      </g>\n     </g>\n     <g id=\"text_31\">\n      <!-- WDT -->\n      <g transform=\"translate(243.980615 255.335312)rotate(-90)scale(0.1 -0.1)\">\n       <use xlink:href=\"#DejaVuSans-87\"/>\n       <use x=\"98.876953\" xlink:href=\"#DejaVuSans-68\"/>\n       <use x=\"175.878906\" xlink:href=\"#DejaVuSans-84\"/>\n      </g>\n     </g>\n    </g>\n    <g id=\"xtick_32\">\n     <g id=\"line2d_63\">\n      <path clip-path=\"url(#pc65b87b26e)\" d=\"M 247.189154 224.64 \nL 247.189154 7.2 \n\" style=\"fill:none;stroke:#c0c0c0;stroke-linecap:square;stroke-width:0.8;\"/>\n     </g>\n     <g id=\"line2d_64\">\n      <g>\n       <use style=\"stroke:#000000;stroke-width:0.8;\" x=\"247.189154\" xlink:href=\"#m29483222ba\" y=\"224.64\"/>\n      </g>\n     </g>\n     <g id=\"text_32\">\n      <!-- PN -->\n      <g transform=\"translate(249.948529 245.150937)rotate(-90)scale(0.1 -0.1)\">\n       <use xlink:href=\"#DejaVuSans-80\"/>\n       <use x=\"60.302734\" xlink:href=\"#DejaVuSans-78\"/>\n      </g>\n     </g>\n    </g>\n    <g id=\"xtick_33\">\n     <g id=\"line2d_65\">\n      <path clip-path=\"url(#pc65b87b26e)\" d=\"M 253.157069 224.64 \nL 253.157069 7.2 \n\" style=\"fill:none;stroke:#c0c0c0;stroke-linecap:square;stroke-width:0.8;\"/>\n     </g>\n     <g id=\"line2d_66\">\n      <g>\n       <use style=\"stroke:#000000;stroke-width:0.8;\" x=\"253.157069\" xlink:href=\"#m29483222ba\" y=\"224.64\"/>\n      </g>\n     </g>\n     <g id=\"text_33\">\n      <!-- FW-NN-TL -->\n      <g transform=\"translate(255.916444 279.824375)rotate(-90)scale(0.1 -0.1)\">\n       <use xlink:href=\"#DejaVuSans-70\"/>\n       <use x=\"57.519531\" xlink:href=\"#DejaVuSans-87\"/>\n       <use x=\"152.396484\" xlink:href=\"#DejaVuSans-45\"/>\n       <use x=\"188.480469\" xlink:href=\"#DejaVuSans-78\"/>\n       <use x=\"263.285156\" xlink:href=\"#DejaVuSans-78\"/>\n       <use x=\"338.089844\" xlink:href=\"#DejaVuSans-45\"/>\n       <use x=\"365.048828\" xlink:href=\"#DejaVuSans-84\"/>\n       <use x=\"426.132812\" xlink:href=\"#DejaVuSans-76\"/>\n      </g>\n     </g>\n    </g>\n    <g id=\"xtick_34\">\n     <g id=\"line2d_67\">\n      <path clip-path=\"url(#pc65b87b26e)\" d=\"M 259.124983 224.64 \nL 259.124983 7.2 \n\" style=\"fill:none;stroke:#c0c0c0;stroke-linecap:square;stroke-width:0.8;\"/>\n     </g>\n     <g id=\"line2d_68\">\n      <g>\n       <use style=\"stroke:#000000;stroke-width:0.8;\" x=\"259.124983\" xlink:href=\"#m29483222ba\" y=\"224.64\"/>\n      </g>\n     </g>\n     <g id=\"text_34\">\n      <!-- VB-HL -->\n      <g transform=\"translate(261.884358 262.041562)rotate(-90)scale(0.1 -0.1)\">\n       <use xlink:href=\"#DejaVuSans-86\"/>\n       <use x=\"68.408203\" xlink:href=\"#DejaVuSans-66\"/>\n       <use x=\"137.011719\" xlink:href=\"#DejaVuSans-45\"/>\n       <use x=\"173.095703\" xlink:href=\"#DejaVuSans-72\"/>\n       <use x=\"248.291016\" xlink:href=\"#DejaVuSans-76\"/>\n      </g>\n     </g>\n    </g>\n    <g id=\"xtick_35\">\n     <g id=\"line2d_69\">\n      <path clip-path=\"url(#pc65b87b26e)\" d=\"M 265.092898 224.64 \nL 265.092898 7.2 \n\" style=\"fill:none;stroke:#c0c0c0;stroke-linecap:square;stroke-width:0.8;\"/>\n     </g>\n     <g id=\"line2d_70\">\n      <g>\n       <use style=\"stroke:#000000;stroke-width:0.8;\" x=\"265.092898\" xlink:href=\"#m29483222ba\" y=\"224.64\"/>\n      </g>\n     </g>\n     <g id=\"text_35\">\n      <!-- CC -->\n      <g transform=\"translate(267.852273 245.605625)rotate(-90)scale(0.1 -0.1)\">\n       <use xlink:href=\"#DejaVuSans-67\"/>\n       <use x=\"69.824219\" xlink:href=\"#DejaVuSans-67\"/>\n      </g>\n     </g>\n    </g>\n    <g id=\"xtick_36\">\n     <g id=\"line2d_71\">\n      <path clip-path=\"url(#pc65b87b26e)\" d=\"M 271.060812 224.64 \nL 271.060812 7.2 \n\" style=\"fill:none;stroke:#c0c0c0;stroke-linecap:square;stroke-width:0.8;\"/>\n     </g>\n     <g id=\"line2d_72\">\n      <g>\n       <use style=\"stroke:#000000;stroke-width:0.8;\" x=\"271.060812\" xlink:href=\"#m29483222ba\" y=\"224.64\"/>\n      </g>\n     </g>\n     <g id=\"text_36\">\n      <!-- FW-PP$-NC -->\n      <g transform=\"translate(273.820187 286.980625)rotate(-90)scale(0.1 -0.1)\">\n       <use xlink:href=\"#DejaVuSans-70\"/>\n       <use x=\"57.519531\" xlink:href=\"#DejaVuSans-87\"/>\n       <use x=\"152.396484\" xlink:href=\"#DejaVuSans-45\"/>\n       <use x=\"188.480469\" xlink:href=\"#DejaVuSans-80\"/>\n       <use x=\"248.783203\" xlink:href=\"#DejaVuSans-80\"/>\n       <use x=\"309.085938\" xlink:href=\"#DejaVuSans-36\"/>\n       <use x=\"372.708984\" xlink:href=\"#DejaVuSans-45\"/>\n       <use x=\"408.792969\" xlink:href=\"#DejaVuSans-78\"/>\n       <use x=\"483.597656\" xlink:href=\"#DejaVuSans-67\"/>\n      </g>\n     </g>\n    </g>\n    <g id=\"xtick_37\">\n     <g id=\"line2d_73\">\n      <path clip-path=\"url(#pc65b87b26e)\" d=\"M 277.028727 224.64 \nL 277.028727 7.2 \n\" style=\"fill:none;stroke:#c0c0c0;stroke-linecap:square;stroke-width:0.8;\"/>\n     </g>\n     <g id=\"line2d_74\">\n      <g>\n       <use style=\"stroke:#000000;stroke-width:0.8;\" x=\"277.028727\" xlink:href=\"#m29483222ba\" y=\"224.64\"/>\n      </g>\n     </g>\n     <g id=\"text_37\">\n      <!-- NNS-TL -->\n      <g transform=\"translate(279.788102 267.325937)rotate(-90)scale(0.1 -0.1)\">\n       <use xlink:href=\"#DejaVuSans-78\"/>\n       <use x=\"74.804688\" xlink:href=\"#DejaVuSans-78\"/>\n       <use x=\"149.609375\" xlink:href=\"#DejaVuSans-83\"/>\n       <use x=\"213.085938\" xlink:href=\"#DejaVuSans-45\"/>\n       <use x=\"240.044922\" xlink:href=\"#DejaVuSans-84\"/>\n       <use x=\"301.128906\" xlink:href=\"#DejaVuSans-76\"/>\n      </g>\n     </g>\n    </g>\n    <g id=\"xtick_38\">\n     <g id=\"line2d_75\">\n      <path clip-path=\"url(#pc65b87b26e)\" d=\"M 282.996641 224.64 \nL 282.996641 7.2 \n\" style=\"fill:none;stroke:#c0c0c0;stroke-linecap:square;stroke-width:0.8;\"/>\n     </g>\n     <g id=\"line2d_76\">\n      <g>\n       <use style=\"stroke:#000000;stroke-width:0.8;\" x=\"282.996641\" xlink:href=\"#m29483222ba\" y=\"224.64\"/>\n      </g>\n     </g>\n     <g id=\"text_38\">\n      <!-- FW-VB -->\n      <g transform=\"translate(285.756016 263.600937)rotate(-90)scale(0.1 -0.1)\">\n       <use xlink:href=\"#DejaVuSans-70\"/>\n       <use x=\"57.519531\" xlink:href=\"#DejaVuSans-87\"/>\n       <use x=\"152.396484\" xlink:href=\"#DejaVuSans-45\"/>\n       <use x=\"182.605469\" xlink:href=\"#DejaVuSans-86\"/>\n       <use x=\"251.013672\" xlink:href=\"#DejaVuSans-66\"/>\n      </g>\n     </g>\n    </g>\n    <g id=\"xtick_39\">\n     <g id=\"line2d_77\">\n      <path clip-path=\"url(#pc65b87b26e)\" d=\"M 288.964555 224.64 \nL 288.964555 7.2 \n\" style=\"fill:none;stroke:#c0c0c0;stroke-linecap:square;stroke-width:0.8;\"/>\n     </g>\n     <g id=\"line2d_78\">\n      <g>\n       <use style=\"stroke:#000000;stroke-width:0.8;\" x=\"288.964555\" xlink:href=\"#m29483222ba\" y=\"224.64\"/>\n      </g>\n     </g>\n     <g id=\"text_39\">\n      <!-- FW-VB-NC -->\n      <g transform=\"translate(291.72393 281.672812)rotate(-90)scale(0.1 -0.1)\">\n       <use xlink:href=\"#DejaVuSans-70\"/>\n       <use x=\"57.519531\" xlink:href=\"#DejaVuSans-87\"/>\n       <use x=\"152.396484\" xlink:href=\"#DejaVuSans-45\"/>\n       <use x=\"182.605469\" xlink:href=\"#DejaVuSans-86\"/>\n       <use x=\"251.013672\" xlink:href=\"#DejaVuSans-66\"/>\n       <use x=\"319.617188\" xlink:href=\"#DejaVuSans-45\"/>\n       <use x=\"355.701172\" xlink:href=\"#DejaVuSans-78\"/>\n       <use x=\"430.505859\" xlink:href=\"#DejaVuSans-67\"/>\n      </g>\n     </g>\n    </g>\n    <g id=\"xtick_40\">\n     <g id=\"line2d_79\">\n      <path clip-path=\"url(#pc65b87b26e)\" d=\"M 294.93247 224.64 \nL 294.93247 7.2 \n\" style=\"fill:none;stroke:#c0c0c0;stroke-linecap:square;stroke-width:0.8;\"/>\n     </g>\n     <g id=\"line2d_80\">\n      <g>\n       <use style=\"stroke:#000000;stroke-width:0.8;\" x=\"294.93247\" xlink:href=\"#m29483222ba\" y=\"224.64\"/>\n      </g>\n     </g>\n     <g id=\"text_40\">\n      <!-- JJR-NC -->\n      <g transform=\"translate(297.691845 262.160312)rotate(-90)scale(0.1 -0.1)\">\n       <use xlink:href=\"#DejaVuSans-74\"/>\n       <use x=\"29.492188\" xlink:href=\"#DejaVuSans-74\"/>\n       <use x=\"58.984375\" xlink:href=\"#DejaVuSans-82\"/>\n       <use x=\"124.466797\" xlink:href=\"#DejaVuSans-45\"/>\n       <use x=\"160.550781\" xlink:href=\"#DejaVuSans-78\"/>\n       <use x=\"235.355469\" xlink:href=\"#DejaVuSans-67\"/>\n      </g>\n     </g>\n    </g>\n    <g id=\"xtick_41\">\n     <g id=\"line2d_81\">\n      <path clip-path=\"url(#pc65b87b26e)\" d=\"M 300.900384 224.64 \nL 300.900384 7.2 \n\" style=\"fill:none;stroke:#c0c0c0;stroke-linecap:square;stroke-width:0.8;\"/>\n     </g>\n     <g id=\"line2d_82\">\n      <g>\n       <use style=\"stroke:#000000;stroke-width:0.8;\" x=\"300.900384\" xlink:href=\"#m29483222ba\" y=\"224.64\"/>\n      </g>\n     </g>\n     <g id=\"text_41\">\n      <!-- ABN -->\n      <g transform=\"translate(303.659759 252.822812)rotate(-90)scale(0.1 -0.1)\">\n       <use xlink:href=\"#DejaVuSans-65\"/>\n       <use x=\"68.408203\" xlink:href=\"#DejaVuSans-66\"/>\n       <use x=\"137.011719\" xlink:href=\"#DejaVuSans-78\"/>\n      </g>\n     </g>\n    </g>\n    <g id=\"xtick_42\">\n     <g id=\"line2d_83\">\n      <path clip-path=\"url(#pc65b87b26e)\" d=\"M 306.868299 224.64 \nL 306.868299 7.2 \n\" style=\"fill:none;stroke:#c0c0c0;stroke-linecap:square;stroke-width:0.8;\"/>\n     </g>\n     <g id=\"line2d_84\">\n      <g>\n       <use style=\"stroke:#000000;stroke-width:0.8;\" x=\"306.868299\" xlink:href=\"#m29483222ba\" y=\"224.64\"/>\n      </g>\n     </g>\n     <g id=\"text_42\">\n      <!-- PPSS+MD -->\n      <g transform=\"translate(309.627674 281.104062)rotate(-90)scale(0.1 -0.1)\">\n       <defs>\n        <path d=\"M 46 62.703125 \nL 46 35.5 \nL 73.1875 35.5 \nL 73.1875 27.203125 \nL 46 27.203125 \nL 46 0 \nL 37.796875 0 \nL 37.796875 27.203125 \nL 10.59375 27.203125 \nL 10.59375 35.5 \nL 37.796875 35.5 \nL 37.796875 62.703125 \nz\n\" id=\"DejaVuSans-43\"/>\n        <path d=\"M 9.8125 72.90625 \nL 24.515625 72.90625 \nL 43.109375 23.296875 \nL 61.8125 72.90625 \nL 76.515625 72.90625 \nL 76.515625 0 \nL 66.890625 0 \nL 66.890625 64.015625 \nL 48.09375 14.015625 \nL 38.1875 14.015625 \nL 19.390625 64.015625 \nL 19.390625 0 \nL 9.8125 0 \nz\n\" id=\"DejaVuSans-77\"/>\n       </defs>\n       <use xlink:href=\"#DejaVuSans-80\"/>\n       <use x=\"60.302734\" xlink:href=\"#DejaVuSans-80\"/>\n       <use x=\"120.605469\" xlink:href=\"#DejaVuSans-83\"/>\n       <use x=\"184.082031\" xlink:href=\"#DejaVuSans-83\"/>\n       <use x=\"247.558594\" xlink:href=\"#DejaVuSans-43\"/>\n       <use x=\"331.347656\" xlink:href=\"#DejaVuSans-77\"/>\n       <use x=\"417.626953\" xlink:href=\"#DejaVuSans-68\"/>\n      </g>\n     </g>\n    </g>\n    <g id=\"xtick_43\">\n     <g id=\"line2d_85\">\n      <path clip-path=\"url(#pc65b87b26e)\" d=\"M 312.836213 224.64 \nL 312.836213 7.2 \n\" style=\"fill:none;stroke:#c0c0c0;stroke-linecap:square;stroke-width:0.8;\"/>\n     </g>\n     <g id=\"line2d_86\">\n      <g>\n       <use style=\"stroke:#000000;stroke-width:0.8;\" x=\"312.836213\" xlink:href=\"#m29483222ba\" y=\"224.64\"/>\n      </g>\n     </g>\n     <g id=\"text_43\">\n      <!-- MD -->\n      <g transform=\"translate(315.595588 247.968125)rotate(-90)scale(0.1 -0.1)\">\n       <use xlink:href=\"#DejaVuSans-77\"/>\n       <use x=\"86.279297\" xlink:href=\"#DejaVuSans-68\"/>\n      </g>\n     </g>\n    </g>\n    <g id=\"xtick_44\">\n     <g id=\"line2d_87\">\n      <path clip-path=\"url(#pc65b87b26e)\" d=\"M 318.804128 224.64 \nL 318.804128 7.2 \n\" style=\"fill:none;stroke:#c0c0c0;stroke-linecap:square;stroke-width:0.8;\"/>\n     </g>\n     <g id=\"line2d_88\">\n      <g>\n       <use style=\"stroke:#000000;stroke-width:0.8;\" x=\"318.804128\" xlink:href=\"#m29483222ba\" y=\"224.64\"/>\n      </g>\n     </g>\n     <g id=\"text_44\">\n      <!-- NNS$-HL -->\n      <g transform=\"translate(321.563503 276.013437)rotate(-90)scale(0.1 -0.1)\">\n       <use xlink:href=\"#DejaVuSans-78\"/>\n       <use x=\"74.804688\" xlink:href=\"#DejaVuSans-78\"/>\n       <use x=\"149.609375\" xlink:href=\"#DejaVuSans-83\"/>\n       <use x=\"213.085938\" xlink:href=\"#DejaVuSans-36\"/>\n       <use x=\"276.708984\" xlink:href=\"#DejaVuSans-45\"/>\n       <use x=\"312.792969\" xlink:href=\"#DejaVuSans-72\"/>\n       <use x=\"387.988281\" xlink:href=\"#DejaVuSans-76\"/>\n      </g>\n     </g>\n    </g>\n    <g id=\"xtick_45\">\n     <g id=\"line2d_89\">\n      <path clip-path=\"url(#pc65b87b26e)\" d=\"M 324.772042 224.64 \nL 324.772042 7.2 \n\" style=\"fill:none;stroke:#c0c0c0;stroke-linecap:square;stroke-width:0.8;\"/>\n     </g>\n     <g id=\"line2d_90\">\n      <g>\n       <use style=\"stroke:#000000;stroke-width:0.8;\" x=\"324.772042\" xlink:href=\"#m29483222ba\" y=\"224.64\"/>\n      </g>\n     </g>\n     <g id=\"text_45\">\n      <!-- JJR-TL -->\n      <g transform=\"translate(327.531417 258.463437)rotate(-90)scale(0.1 -0.1)\">\n       <use xlink:href=\"#DejaVuSans-74\"/>\n       <use x=\"29.492188\" xlink:href=\"#DejaVuSans-74\"/>\n       <use x=\"58.984375\" xlink:href=\"#DejaVuSans-82\"/>\n       <use x=\"124.466797\" xlink:href=\"#DejaVuSans-45\"/>\n       <use x=\"151.425781\" xlink:href=\"#DejaVuSans-84\"/>\n       <use x=\"212.509766\" xlink:href=\"#DejaVuSans-76\"/>\n      </g>\n     </g>\n    </g>\n    <g id=\"xtick_46\">\n     <g id=\"line2d_91\">\n      <path clip-path=\"url(#pc65b87b26e)\" d=\"M 330.739957 224.64 \nL 330.739957 7.2 \n\" style=\"fill:none;stroke:#c0c0c0;stroke-linecap:square;stroke-width:0.8;\"/>\n     </g>\n     <g id=\"line2d_92\">\n      <g>\n       <use style=\"stroke:#000000;stroke-width:0.8;\" x=\"330.739957\" xlink:href=\"#m29483222ba\" y=\"224.64\"/>\n      </g>\n     </g>\n     <g id=\"text_46\">\n      <!-- RP -->\n      <g transform=\"translate(333.499332 244.618125)rotate(-90)scale(0.1 -0.1)\">\n       <use xlink:href=\"#DejaVuSans-82\"/>\n       <use x=\"69.482422\" xlink:href=\"#DejaVuSans-80\"/>\n      </g>\n     </g>\n    </g>\n    <g id=\"xtick_47\">\n     <g id=\"line2d_93\">\n      <path clip-path=\"url(#pc65b87b26e)\" d=\"M 336.707871 224.64 \nL 336.707871 7.2 \n\" style=\"fill:none;stroke:#c0c0c0;stroke-linecap:square;stroke-width:0.8;\"/>\n     </g>\n     <g id=\"line2d_94\">\n      <g>\n       <use style=\"stroke:#000000;stroke-width:0.8;\" x=\"336.707871\" xlink:href=\"#m29483222ba\" y=\"224.64\"/>\n      </g>\n     </g>\n     <g id=\"text_47\">\n      <!-- IN-TL -->\n      <g transform=\"translate(339.467246 256.44625)rotate(-90)scale(0.1 -0.1)\">\n       <use xlink:href=\"#DejaVuSans-73\"/>\n       <use x=\"29.492188\" xlink:href=\"#DejaVuSans-78\"/>\n       <use x=\"104.296875\" xlink:href=\"#DejaVuSans-45\"/>\n       <use x=\"131.255859\" xlink:href=\"#DejaVuSans-84\"/>\n       <use x=\"192.339844\" xlink:href=\"#DejaVuSans-76\"/>\n      </g>\n     </g>\n    </g>\n    <g id=\"xtick_48\">\n     <g id=\"line2d_95\">\n      <path clip-path=\"url(#pc65b87b26e)\" d=\"M 342.675785 224.64 \nL 342.675785 7.2 \n\" style=\"fill:none;stroke:#c0c0c0;stroke-linecap:square;stroke-width:0.8;\"/>\n     </g>\n     <g id=\"line2d_96\">\n      <g>\n       <use style=\"stroke:#000000;stroke-width:0.8;\" x=\"342.675785\" xlink:href=\"#m29483222ba\" y=\"224.64\"/>\n      </g>\n     </g>\n     <g id=\"text_48\">\n      <!-- FW-WDT -->\n      <g transform=\"translate(345.43516 273.782187)rotate(-90)scale(0.1 -0.1)\">\n       <use xlink:href=\"#DejaVuSans-70\"/>\n       <use x=\"57.519531\" xlink:href=\"#DejaVuSans-87\"/>\n       <use x=\"152.396484\" xlink:href=\"#DejaVuSans-45\"/>\n       <use x=\"184.480469\" xlink:href=\"#DejaVuSans-87\"/>\n       <use x=\"283.357422\" xlink:href=\"#DejaVuSans-68\"/>\n       <use x=\"360.359375\" xlink:href=\"#DejaVuSans-84\"/>\n      </g>\n     </g>\n    </g>\n    <g id=\"xtick_49\">\n     <g id=\"line2d_97\">\n      <path clip-path=\"url(#pc65b87b26e)\" d=\"M 348.6437 224.64 \nL 348.6437 7.2 \n\" style=\"fill:none;stroke:#c0c0c0;stroke-linecap:square;stroke-width:0.8;\"/>\n     </g>\n     <g id=\"line2d_98\">\n      <g>\n       <use style=\"stroke:#000000;stroke-width:0.8;\" x=\"348.6437\" xlink:href=\"#m29483222ba\" y=\"224.64\"/>\n      </g>\n     </g>\n     <g id=\"text_49\">\n      <!-- NP-HL -->\n      <g transform=\"translate(351.403075 261.625937)rotate(-90)scale(0.1 -0.1)\">\n       <use xlink:href=\"#DejaVuSans-78\"/>\n       <use x=\"74.804688\" xlink:href=\"#DejaVuSans-80\"/>\n       <use x=\"132.857422\" xlink:href=\"#DejaVuSans-45\"/>\n       <use x=\"168.941406\" xlink:href=\"#DejaVuSans-72\"/>\n       <use x=\"244.136719\" xlink:href=\"#DejaVuSans-76\"/>\n      </g>\n     </g>\n    </g>\n    <g id=\"xtick_50\">\n     <g id=\"line2d_99\">\n      <path clip-path=\"url(#pc65b87b26e)\" d=\"M 354.611614 224.64 \nL 354.611614 7.2 \n\" style=\"fill:none;stroke:#c0c0c0;stroke-linecap:square;stroke-width:0.8;\"/>\n     </g>\n     <g id=\"line2d_100\">\n      <g>\n       <use style=\"stroke:#000000;stroke-width:0.8;\" x=\"354.611614\" xlink:href=\"#m29483222ba\" y=\"224.64\"/>\n      </g>\n     </g>\n     <g id=\"text_50\">\n      <!-- FW-JJ -->\n      <g transform=\"translate(357.370989 256.949375)rotate(-90)scale(0.1 -0.1)\">\n       <use xlink:href=\"#DejaVuSans-70\"/>\n       <use x=\"57.519531\" xlink:href=\"#DejaVuSans-87\"/>\n       <use x=\"152.396484\" xlink:href=\"#DejaVuSans-45\"/>\n       <use x=\"194.105469\" xlink:href=\"#DejaVuSans-74\"/>\n       <use x=\"223.597656\" xlink:href=\"#DejaVuSans-74\"/>\n      </g>\n     </g>\n    </g>\n    <g id=\"xtick_51\">\n     <g id=\"line2d_101\">\n      <path clip-path=\"url(#pc65b87b26e)\" d=\"M 360.579529 224.64 \nL 360.579529 7.2 \n\" style=\"fill:none;stroke:#c0c0c0;stroke-linecap:square;stroke-width:0.8;\"/>\n     </g>\n     <g id=\"line2d_102\">\n      <g>\n       <use style=\"stroke:#000000;stroke-width:0.8;\" x=\"360.579529\" xlink:href=\"#m29483222ba\" y=\"224.64\"/>\n      </g>\n     </g>\n     <g id=\"text_51\">\n      <!-- FW-IN+NN -->\n      <g transform=\"translate(363.338904 284.260312)rotate(-90)scale(0.1 -0.1)\">\n       <use xlink:href=\"#DejaVuSans-70\"/>\n       <use x=\"57.519531\" xlink:href=\"#DejaVuSans-87\"/>\n       <use x=\"152.396484\" xlink:href=\"#DejaVuSans-45\"/>\n       <use x=\"188.480469\" xlink:href=\"#DejaVuSans-73\"/>\n       <use x=\"217.972656\" xlink:href=\"#DejaVuSans-78\"/>\n       <use x=\"292.777344\" xlink:href=\"#DejaVuSans-43\"/>\n       <use x=\"376.566406\" xlink:href=\"#DejaVuSans-78\"/>\n       <use x=\"451.371094\" xlink:href=\"#DejaVuSans-78\"/>\n      </g>\n     </g>\n    </g>\n    <g id=\"xtick_52\">\n     <g id=\"line2d_103\">\n      <path clip-path=\"url(#pc65b87b26e)\" d=\"M 366.547443 224.64 \nL 366.547443 7.2 \n\" style=\"fill:none;stroke:#c0c0c0;stroke-linecap:square;stroke-width:0.8;\"/>\n     </g>\n     <g id=\"line2d_104\">\n      <g>\n       <use style=\"stroke:#000000;stroke-width:0.8;\" x=\"366.547443\" xlink:href=\"#m29483222ba\" y=\"224.64\"/>\n      </g>\n     </g>\n     <g id=\"text_52\">\n      <!-- JJR-HL -->\n      <g transform=\"translate(369.306818 260.788437)rotate(-90)scale(0.1 -0.1)\">\n       <use xlink:href=\"#DejaVuSans-74\"/>\n       <use x=\"29.492188\" xlink:href=\"#DejaVuSans-74\"/>\n       <use x=\"58.984375\" xlink:href=\"#DejaVuSans-82\"/>\n       <use x=\"124.466797\" xlink:href=\"#DejaVuSans-45\"/>\n       <use x=\"160.550781\" xlink:href=\"#DejaVuSans-72\"/>\n       <use x=\"235.746094\" xlink:href=\"#DejaVuSans-76\"/>\n      </g>\n     </g>\n    </g>\n    <g id=\"text_53\">\n     <!-- Samples -->\n     <g transform=\"translate(193.0125 298.579062)scale(0.1 -0.1)\">\n      <defs>\n       <path d=\"M 34.28125 27.484375 \nQ 23.390625 27.484375 19.1875 25 \nQ 14.984375 22.515625 14.984375 16.5 \nQ 14.984375 11.71875 18.140625 8.90625 \nQ 21.296875 6.109375 26.703125 6.109375 \nQ 34.1875 6.109375 38.703125 11.40625 \nQ 43.21875 16.703125 43.21875 25.484375 \nL 43.21875 27.484375 \nz\nM 52.203125 31.203125 \nL 52.203125 0 \nL 43.21875 0 \nL 43.21875 8.296875 \nQ 40.140625 3.328125 35.546875 0.953125 \nQ 30.953125 -1.421875 24.3125 -1.421875 \nQ 15.921875 -1.421875 10.953125 3.296875 \nQ 6 8.015625 6 15.921875 \nQ 6 25.140625 12.171875 29.828125 \nQ 18.359375 34.515625 30.609375 34.515625 \nL 43.21875 34.515625 \nL 43.21875 35.40625 \nQ 43.21875 41.609375 39.140625 45 \nQ 35.0625 48.390625 27.6875 48.390625 \nQ 23 48.390625 18.546875 47.265625 \nQ 14.109375 46.140625 10.015625 43.890625 \nL 10.015625 52.203125 \nQ 14.9375 54.109375 19.578125 55.046875 \nQ 24.21875 56 28.609375 56 \nQ 40.484375 56 46.34375 49.84375 \nQ 52.203125 43.703125 52.203125 31.203125 \nz\n\" id=\"DejaVuSans-97\"/>\n       <path d=\"M 52 44.1875 \nQ 55.375 50.25 60.0625 53.125 \nQ 64.75 56 71.09375 56 \nQ 79.640625 56 84.28125 50.015625 \nQ 88.921875 44.046875 88.921875 33.015625 \nL 88.921875 0 \nL 79.890625 0 \nL 79.890625 32.71875 \nQ 79.890625 40.578125 77.09375 44.375 \nQ 74.3125 48.1875 68.609375 48.1875 \nQ 61.625 48.1875 57.5625 43.546875 \nQ 53.515625 38.921875 53.515625 30.90625 \nL 53.515625 0 \nL 44.484375 0 \nL 44.484375 32.71875 \nQ 44.484375 40.625 41.703125 44.40625 \nQ 38.921875 48.1875 33.109375 48.1875 \nQ 26.21875 48.1875 22.15625 43.53125 \nQ 18.109375 38.875 18.109375 30.90625 \nL 18.109375 0 \nL 9.078125 0 \nL 9.078125 54.6875 \nL 18.109375 54.6875 \nL 18.109375 46.1875 \nQ 21.1875 51.21875 25.484375 53.609375 \nQ 29.78125 56 35.6875 56 \nQ 41.65625 56 45.828125 52.96875 \nQ 50 49.953125 52 44.1875 \nz\n\" id=\"DejaVuSans-109\"/>\n       <path d=\"M 18.109375 8.203125 \nL 18.109375 -20.796875 \nL 9.078125 -20.796875 \nL 9.078125 54.6875 \nL 18.109375 54.6875 \nL 18.109375 46.390625 \nQ 20.953125 51.265625 25.265625 53.625 \nQ 29.59375 56 35.59375 56 \nQ 45.5625 56 51.78125 48.09375 \nQ 58.015625 40.1875 58.015625 27.296875 \nQ 58.015625 14.40625 51.78125 6.484375 \nQ 45.5625 -1.421875 35.59375 -1.421875 \nQ 29.59375 -1.421875 25.265625 0.953125 \nQ 20.953125 3.328125 18.109375 8.203125 \nz\nM 48.6875 27.296875 \nQ 48.6875 37.203125 44.609375 42.84375 \nQ 40.53125 48.484375 33.40625 48.484375 \nQ 26.265625 48.484375 22.1875 42.84375 \nQ 18.109375 37.203125 18.109375 27.296875 \nQ 18.109375 17.390625 22.1875 11.75 \nQ 26.265625 6.109375 33.40625 6.109375 \nQ 40.53125 6.109375 44.609375 11.75 \nQ 48.6875 17.390625 48.6875 27.296875 \nz\n\" id=\"DejaVuSans-112\"/>\n       <path d=\"M 9.421875 75.984375 \nL 18.40625 75.984375 \nL 18.40625 0 \nL 9.421875 0 \nz\n\" id=\"DejaVuSans-108\"/>\n       <path d=\"M 56.203125 29.59375 \nL 56.203125 25.203125 \nL 14.890625 25.203125 \nQ 15.484375 15.921875 20.484375 11.0625 \nQ 25.484375 6.203125 34.421875 6.203125 \nQ 39.59375 6.203125 44.453125 7.46875 \nQ 49.3125 8.734375 54.109375 11.28125 \nL 54.109375 2.78125 \nQ 49.265625 0.734375 44.1875 -0.34375 \nQ 39.109375 -1.421875 33.890625 -1.421875 \nQ 20.796875 -1.421875 13.15625 6.1875 \nQ 5.515625 13.8125 5.515625 26.8125 \nQ 5.515625 40.234375 12.765625 48.109375 \nQ 20.015625 56 32.328125 56 \nQ 43.359375 56 49.78125 48.890625 \nQ 56.203125 41.796875 56.203125 29.59375 \nz\nM 47.21875 32.234375 \nQ 47.125 39.59375 43.09375 43.984375 \nQ 39.0625 48.390625 32.421875 48.390625 \nQ 24.90625 48.390625 20.390625 44.140625 \nQ 15.875 39.890625 15.1875 32.171875 \nz\n\" id=\"DejaVuSans-101\"/>\n       <path d=\"M 44.28125 53.078125 \nL 44.28125 44.578125 \nQ 40.484375 46.53125 36.375 47.5 \nQ 32.28125 48.484375 27.875 48.484375 \nQ 21.1875 48.484375 17.84375 46.4375 \nQ 14.5 44.390625 14.5 40.28125 \nQ 14.5 37.15625 16.890625 35.375 \nQ 19.28125 33.59375 26.515625 31.984375 \nL 29.59375 31.296875 \nQ 39.15625 29.25 43.1875 25.515625 \nQ 47.21875 21.78125 47.21875 15.09375 \nQ 47.21875 7.46875 41.1875 3.015625 \nQ 35.15625 -1.421875 24.609375 -1.421875 \nQ 20.21875 -1.421875 15.453125 -0.5625 \nQ 10.6875 0.296875 5.421875 2 \nL 5.421875 11.28125 \nQ 10.40625 8.6875 15.234375 7.390625 \nQ 20.0625 6.109375 24.8125 6.109375 \nQ 31.15625 6.109375 34.5625 8.28125 \nQ 37.984375 10.453125 37.984375 14.40625 \nQ 37.984375 18.0625 35.515625 20.015625 \nQ 33.0625 21.96875 24.703125 23.78125 \nL 21.578125 24.515625 \nQ 13.234375 26.265625 9.515625 29.90625 \nQ 5.8125 33.546875 5.8125 39.890625 \nQ 5.8125 47.609375 11.28125 51.796875 \nQ 16.75 56 26.8125 56 \nQ 31.78125 56 36.171875 55.265625 \nQ 40.578125 54.546875 44.28125 53.078125 \nz\n\" id=\"DejaVuSans-115\"/>\n      </defs>\n      <use xlink:href=\"#DejaVuSans-83\"/>\n      <use x=\"63.476562\" xlink:href=\"#DejaVuSans-97\"/>\n      <use x=\"124.755859\" xlink:href=\"#DejaVuSans-109\"/>\n      <use x=\"222.167969\" xlink:href=\"#DejaVuSans-112\"/>\n      <use x=\"285.644531\" xlink:href=\"#DejaVuSans-108\"/>\n      <use x=\"313.427734\" xlink:href=\"#DejaVuSans-101\"/>\n      <use x=\"374.951172\" xlink:href=\"#DejaVuSans-115\"/>\n     </g>\n    </g>\n   </g>\n   <g id=\"matplotlib.axis_2\">\n    <g id=\"ytick_1\">\n     <g id=\"line2d_105\">\n      <path clip-path=\"url(#pc65b87b26e)\" d=\"M 46.965625 215.322761 \nL 381.765625 215.322761 \n\" style=\"fill:none;stroke:#c0c0c0;stroke-linecap:square;stroke-width:0.8;\"/>\n     </g>\n     <g id=\"line2d_106\">\n      <defs>\n       <path d=\"M 0 0 \nL -3.5 0 \n\" id=\"ma5efcf2224\" style=\"stroke:#000000;stroke-width:0.8;\"/>\n      </defs>\n      <g>\n       <use style=\"stroke:#000000;stroke-width:0.8;\" x=\"46.965625\" xlink:href=\"#ma5efcf2224\" y=\"215.322761\"/>\n      </g>\n     </g>\n     <g id=\"text_54\">\n      <!-- 0 -->\n      <g transform=\"translate(33.603125 219.12198)scale(0.1 -0.1)\">\n       <defs>\n        <path d=\"M 31.78125 66.40625 \nQ 24.171875 66.40625 20.328125 58.90625 \nQ 16.5 51.421875 16.5 36.375 \nQ 16.5 21.390625 20.328125 13.890625 \nQ 24.171875 6.390625 31.78125 6.390625 \nQ 39.453125 6.390625 43.28125 13.890625 \nQ 47.125 21.390625 47.125 36.375 \nQ 47.125 51.421875 43.28125 58.90625 \nQ 39.453125 66.40625 31.78125 66.40625 \nz\nM 31.78125 74.21875 \nQ 44.046875 74.21875 50.515625 64.515625 \nQ 56.984375 54.828125 56.984375 36.375 \nQ 56.984375 17.96875 50.515625 8.265625 \nQ 44.046875 -1.421875 31.78125 -1.421875 \nQ 19.53125 -1.421875 13.0625 8.265625 \nQ 6.59375 17.96875 6.59375 36.375 \nQ 6.59375 54.828125 13.0625 64.515625 \nQ 19.53125 74.21875 31.78125 74.21875 \nz\n\" id=\"DejaVuSans-48\"/>\n       </defs>\n       <use xlink:href=\"#DejaVuSans-48\"/>\n      </g>\n     </g>\n    </g>\n    <g id=\"ytick_2\">\n     <g id=\"line2d_107\">\n      <path clip-path=\"url(#pc65b87b26e)\" d=\"M 46.965625 187.002886 \nL 381.765625 187.002886 \n\" style=\"fill:none;stroke:#c0c0c0;stroke-linecap:square;stroke-width:0.8;\"/>\n     </g>\n     <g id=\"line2d_108\">\n      <g>\n       <use style=\"stroke:#000000;stroke-width:0.8;\" x=\"46.965625\" xlink:href=\"#ma5efcf2224\" y=\"187.002886\"/>\n      </g>\n     </g>\n     <g id=\"text_55\">\n      <!-- 50 -->\n      <g transform=\"translate(27.240625 190.802105)scale(0.1 -0.1)\">\n       <defs>\n        <path d=\"M 10.796875 72.90625 \nL 49.515625 72.90625 \nL 49.515625 64.59375 \nL 19.828125 64.59375 \nL 19.828125 46.734375 \nQ 21.96875 47.46875 24.109375 47.828125 \nQ 26.265625 48.1875 28.421875 48.1875 \nQ 40.625 48.1875 47.75 41.5 \nQ 54.890625 34.8125 54.890625 23.390625 \nQ 54.890625 11.625 47.5625 5.09375 \nQ 40.234375 -1.421875 26.90625 -1.421875 \nQ 22.3125 -1.421875 17.546875 -0.640625 \nQ 12.796875 0.140625 7.71875 1.703125 \nL 7.71875 11.625 \nQ 12.109375 9.234375 16.796875 8.0625 \nQ 21.484375 6.890625 26.703125 6.890625 \nQ 35.15625 6.890625 40.078125 11.328125 \nQ 45.015625 15.765625 45.015625 23.390625 \nQ 45.015625 31 40.078125 35.4375 \nQ 35.15625 39.890625 26.703125 39.890625 \nQ 22.75 39.890625 18.8125 39.015625 \nQ 14.890625 38.140625 10.796875 36.28125 \nz\n\" id=\"DejaVuSans-53\"/>\n       </defs>\n       <use xlink:href=\"#DejaVuSans-53\"/>\n       <use x=\"63.623047\" xlink:href=\"#DejaVuSans-48\"/>\n      </g>\n     </g>\n    </g>\n    <g id=\"ytick_3\">\n     <g id=\"line2d_109\">\n      <path clip-path=\"url(#pc65b87b26e)\" d=\"M 46.965625 158.683011 \nL 381.765625 158.683011 \n\" style=\"fill:none;stroke:#c0c0c0;stroke-linecap:square;stroke-width:0.8;\"/>\n     </g>\n     <g id=\"line2d_110\">\n      <g>\n       <use style=\"stroke:#000000;stroke-width:0.8;\" x=\"46.965625\" xlink:href=\"#ma5efcf2224\" y=\"158.683011\"/>\n      </g>\n     </g>\n     <g id=\"text_56\">\n      <!-- 100 -->\n      <g transform=\"translate(20.878125 162.48223)scale(0.1 -0.1)\">\n       <defs>\n        <path d=\"M 12.40625 8.296875 \nL 28.515625 8.296875 \nL 28.515625 63.921875 \nL 10.984375 60.40625 \nL 10.984375 69.390625 \nL 28.421875 72.90625 \nL 38.28125 72.90625 \nL 38.28125 8.296875 \nL 54.390625 8.296875 \nL 54.390625 0 \nL 12.40625 0 \nz\n\" id=\"DejaVuSans-49\"/>\n       </defs>\n       <use xlink:href=\"#DejaVuSans-49\"/>\n       <use x=\"63.623047\" xlink:href=\"#DejaVuSans-48\"/>\n       <use x=\"127.246094\" xlink:href=\"#DejaVuSans-48\"/>\n      </g>\n     </g>\n    </g>\n    <g id=\"ytick_4\">\n     <g id=\"line2d_111\">\n      <path clip-path=\"url(#pc65b87b26e)\" d=\"M 46.965625 130.363136 \nL 381.765625 130.363136 \n\" style=\"fill:none;stroke:#c0c0c0;stroke-linecap:square;stroke-width:0.8;\"/>\n     </g>\n     <g id=\"line2d_112\">\n      <g>\n       <use style=\"stroke:#000000;stroke-width:0.8;\" x=\"46.965625\" xlink:href=\"#ma5efcf2224\" y=\"130.363136\"/>\n      </g>\n     </g>\n     <g id=\"text_57\">\n      <!-- 150 -->\n      <g transform=\"translate(20.878125 134.162355)scale(0.1 -0.1)\">\n       <use xlink:href=\"#DejaVuSans-49\"/>\n       <use x=\"63.623047\" xlink:href=\"#DejaVuSans-53\"/>\n       <use x=\"127.246094\" xlink:href=\"#DejaVuSans-48\"/>\n      </g>\n     </g>\n    </g>\n    <g id=\"ytick_5\">\n     <g id=\"line2d_113\">\n      <path clip-path=\"url(#pc65b87b26e)\" d=\"M 46.965625 102.043261 \nL 381.765625 102.043261 \n\" style=\"fill:none;stroke:#c0c0c0;stroke-linecap:square;stroke-width:0.8;\"/>\n     </g>\n     <g id=\"line2d_114\">\n      <g>\n       <use style=\"stroke:#000000;stroke-width:0.8;\" x=\"46.965625\" xlink:href=\"#ma5efcf2224\" y=\"102.043261\"/>\n      </g>\n     </g>\n     <g id=\"text_58\">\n      <!-- 200 -->\n      <g transform=\"translate(20.878125 105.84248)scale(0.1 -0.1)\">\n       <defs>\n        <path d=\"M 19.1875 8.296875 \nL 53.609375 8.296875 \nL 53.609375 0 \nL 7.328125 0 \nL 7.328125 8.296875 \nQ 12.9375 14.109375 22.625 23.890625 \nQ 32.328125 33.6875 34.8125 36.53125 \nQ 39.546875 41.84375 41.421875 45.53125 \nQ 43.3125 49.21875 43.3125 52.78125 \nQ 43.3125 58.59375 39.234375 62.25 \nQ 35.15625 65.921875 28.609375 65.921875 \nQ 23.96875 65.921875 18.8125 64.3125 \nQ 13.671875 62.703125 7.8125 59.421875 \nL 7.8125 69.390625 \nQ 13.765625 71.78125 18.9375 73 \nQ 24.125 74.21875 28.421875 74.21875 \nQ 39.75 74.21875 46.484375 68.546875 \nQ 53.21875 62.890625 53.21875 53.421875 \nQ 53.21875 48.921875 51.53125 44.890625 \nQ 49.859375 40.875 45.40625 35.40625 \nQ 44.1875 33.984375 37.640625 27.21875 \nQ 31.109375 20.453125 19.1875 8.296875 \nz\n\" id=\"DejaVuSans-50\"/>\n       </defs>\n       <use xlink:href=\"#DejaVuSans-50\"/>\n       <use x=\"63.623047\" xlink:href=\"#DejaVuSans-48\"/>\n       <use x=\"127.246094\" xlink:href=\"#DejaVuSans-48\"/>\n      </g>\n     </g>\n    </g>\n    <g id=\"ytick_6\">\n     <g id=\"line2d_115\">\n      <path clip-path=\"url(#pc65b87b26e)\" d=\"M 46.965625 73.723386 \nL 381.765625 73.723386 \n\" style=\"fill:none;stroke:#c0c0c0;stroke-linecap:square;stroke-width:0.8;\"/>\n     </g>\n     <g id=\"line2d_116\">\n      <g>\n       <use style=\"stroke:#000000;stroke-width:0.8;\" x=\"46.965625\" xlink:href=\"#ma5efcf2224\" y=\"73.723386\"/>\n      </g>\n     </g>\n     <g id=\"text_59\">\n      <!-- 250 -->\n      <g transform=\"translate(20.878125 77.522605)scale(0.1 -0.1)\">\n       <use xlink:href=\"#DejaVuSans-50\"/>\n       <use x=\"63.623047\" xlink:href=\"#DejaVuSans-53\"/>\n       <use x=\"127.246094\" xlink:href=\"#DejaVuSans-48\"/>\n      </g>\n     </g>\n    </g>\n    <g id=\"ytick_7\">\n     <g id=\"line2d_117\">\n      <path clip-path=\"url(#pc65b87b26e)\" d=\"M 46.965625 45.403511 \nL 381.765625 45.403511 \n\" style=\"fill:none;stroke:#c0c0c0;stroke-linecap:square;stroke-width:0.8;\"/>\n     </g>\n     <g id=\"line2d_118\">\n      <g>\n       <use style=\"stroke:#000000;stroke-width:0.8;\" x=\"46.965625\" xlink:href=\"#ma5efcf2224\" y=\"45.403511\"/>\n      </g>\n     </g>\n     <g id=\"text_60\">\n      <!-- 300 -->\n      <g transform=\"translate(20.878125 49.20273)scale(0.1 -0.1)\">\n       <defs>\n        <path d=\"M 40.578125 39.3125 \nQ 47.65625 37.796875 51.625 33 \nQ 55.609375 28.21875 55.609375 21.1875 \nQ 55.609375 10.40625 48.1875 4.484375 \nQ 40.765625 -1.421875 27.09375 -1.421875 \nQ 22.515625 -1.421875 17.65625 -0.515625 \nQ 12.796875 0.390625 7.625 2.203125 \nL 7.625 11.71875 \nQ 11.71875 9.328125 16.59375 8.109375 \nQ 21.484375 6.890625 26.8125 6.890625 \nQ 36.078125 6.890625 40.9375 10.546875 \nQ 45.796875 14.203125 45.796875 21.1875 \nQ 45.796875 27.640625 41.28125 31.265625 \nQ 36.765625 34.90625 28.71875 34.90625 \nL 20.21875 34.90625 \nL 20.21875 43.015625 \nL 29.109375 43.015625 \nQ 36.375 43.015625 40.234375 45.921875 \nQ 44.09375 48.828125 44.09375 54.296875 \nQ 44.09375 59.90625 40.109375 62.90625 \nQ 36.140625 65.921875 28.71875 65.921875 \nQ 24.65625 65.921875 20.015625 65.03125 \nQ 15.375 64.15625 9.8125 62.3125 \nL 9.8125 71.09375 \nQ 15.4375 72.65625 20.34375 73.4375 \nQ 25.25 74.21875 29.59375 74.21875 \nQ 40.828125 74.21875 47.359375 69.109375 \nQ 53.90625 64.015625 53.90625 55.328125 \nQ 53.90625 49.265625 50.4375 45.09375 \nQ 46.96875 40.921875 40.578125 39.3125 \nz\n\" id=\"DejaVuSans-51\"/>\n       </defs>\n       <use xlink:href=\"#DejaVuSans-51\"/>\n       <use x=\"63.623047\" xlink:href=\"#DejaVuSans-48\"/>\n       <use x=\"127.246094\" xlink:href=\"#DejaVuSans-48\"/>\n      </g>\n     </g>\n    </g>\n    <g id=\"ytick_8\">\n     <g id=\"line2d_119\">\n      <path clip-path=\"url(#pc65b87b26e)\" d=\"M 46.965625 17.083636 \nL 381.765625 17.083636 \n\" style=\"fill:none;stroke:#c0c0c0;stroke-linecap:square;stroke-width:0.8;\"/>\n     </g>\n     <g id=\"line2d_120\">\n      <g>\n       <use style=\"stroke:#000000;stroke-width:0.8;\" x=\"46.965625\" xlink:href=\"#ma5efcf2224\" y=\"17.083636\"/>\n      </g>\n     </g>\n     <g id=\"text_61\">\n      <!-- 350 -->\n      <g transform=\"translate(20.878125 20.882855)scale(0.1 -0.1)\">\n       <use xlink:href=\"#DejaVuSans-51\"/>\n       <use x=\"63.623047\" xlink:href=\"#DejaVuSans-53\"/>\n       <use x=\"127.246094\" xlink:href=\"#DejaVuSans-48\"/>\n      </g>\n     </g>\n    </g>\n    <g id=\"text_62\">\n     <!-- Counts -->\n     <g transform=\"translate(14.798438 133.373125)rotate(-90)scale(0.1 -0.1)\">\n      <defs>\n       <path d=\"M 30.609375 48.390625 \nQ 23.390625 48.390625 19.1875 42.75 \nQ 14.984375 37.109375 14.984375 27.296875 \nQ 14.984375 17.484375 19.15625 11.84375 \nQ 23.34375 6.203125 30.609375 6.203125 \nQ 37.796875 6.203125 41.984375 11.859375 \nQ 46.1875 17.53125 46.1875 27.296875 \nQ 46.1875 37.015625 41.984375 42.703125 \nQ 37.796875 48.390625 30.609375 48.390625 \nz\nM 30.609375 56 \nQ 42.328125 56 49.015625 48.375 \nQ 55.71875 40.765625 55.71875 27.296875 \nQ 55.71875 13.875 49.015625 6.21875 \nQ 42.328125 -1.421875 30.609375 -1.421875 \nQ 18.84375 -1.421875 12.171875 6.21875 \nQ 5.515625 13.875 5.515625 27.296875 \nQ 5.515625 40.765625 12.171875 48.375 \nQ 18.84375 56 30.609375 56 \nz\n\" id=\"DejaVuSans-111\"/>\n       <path d=\"M 8.5 21.578125 \nL 8.5 54.6875 \nL 17.484375 54.6875 \nL 17.484375 21.921875 \nQ 17.484375 14.15625 20.5 10.265625 \nQ 23.53125 6.390625 29.59375 6.390625 \nQ 36.859375 6.390625 41.078125 11.03125 \nQ 45.3125 15.671875 45.3125 23.6875 \nL 45.3125 54.6875 \nL 54.296875 54.6875 \nL 54.296875 0 \nL 45.3125 0 \nL 45.3125 8.40625 \nQ 42.046875 3.421875 37.71875 1 \nQ 33.40625 -1.421875 27.6875 -1.421875 \nQ 18.265625 -1.421875 13.375 4.4375 \nQ 8.5 10.296875 8.5 21.578125 \nz\nM 31.109375 56 \nz\n\" id=\"DejaVuSans-117\"/>\n       <path d=\"M 54.890625 33.015625 \nL 54.890625 0 \nL 45.90625 0 \nL 45.90625 32.71875 \nQ 45.90625 40.484375 42.875 44.328125 \nQ 39.84375 48.1875 33.796875 48.1875 \nQ 26.515625 48.1875 22.3125 43.546875 \nQ 18.109375 38.921875 18.109375 30.90625 \nL 18.109375 0 \nL 9.078125 0 \nL 9.078125 54.6875 \nL 18.109375 54.6875 \nL 18.109375 46.1875 \nQ 21.34375 51.125 25.703125 53.5625 \nQ 30.078125 56 35.796875 56 \nQ 45.21875 56 50.046875 50.171875 \nQ 54.890625 44.34375 54.890625 33.015625 \nz\n\" id=\"DejaVuSans-110\"/>\n       <path d=\"M 18.3125 70.21875 \nL 18.3125 54.6875 \nL 36.8125 54.6875 \nL 36.8125 47.703125 \nL 18.3125 47.703125 \nL 18.3125 18.015625 \nQ 18.3125 11.328125 20.140625 9.421875 \nQ 21.96875 7.515625 27.59375 7.515625 \nL 36.8125 7.515625 \nL 36.8125 0 \nL 27.59375 0 \nQ 17.1875 0 13.234375 3.875 \nQ 9.28125 7.765625 9.28125 18.015625 \nL 9.28125 47.703125 \nL 2.6875 47.703125 \nL 2.6875 54.6875 \nL 9.28125 54.6875 \nL 9.28125 70.21875 \nz\n\" id=\"DejaVuSans-116\"/>\n      </defs>\n      <use xlink:href=\"#DejaVuSans-67\"/>\n      <use x=\"69.824219\" xlink:href=\"#DejaVuSans-111\"/>\n      <use x=\"131.005859\" xlink:href=\"#DejaVuSans-117\"/>\n      <use x=\"194.384766\" xlink:href=\"#DejaVuSans-110\"/>\n      <use x=\"257.763672\" xlink:href=\"#DejaVuSans-116\"/>\n      <use x=\"296.972656\" xlink:href=\"#DejaVuSans-115\"/>\n     </g>\n    </g>\n   </g>\n   <g id=\"line2d_121\">\n    <path clip-path=\"url(#pc65b87b26e)\" d=\"M 62.183807 17.083636 \nL 68.151721 52.200281 \nL 74.119636 108.840031 \nL 80.08755 159.249409 \nL 86.055465 197.764439 \nL 92.023379 200.596426 \nL 97.991293 200.596426 \nL 103.959208 201.162824 \nL 109.927122 204.561209 \nL 115.895037 205.694004 \nL 121.862951 207.959594 \nL 127.830866 207.959594 \nL 133.79878 207.959594 \nL 139.766695 208.525991 \nL 145.734609 208.525991 \nL 151.702523 209.658786 \nL 157.670438 210.225184 \nL 163.638352 210.791581 \nL 169.606267 211.357979 \nL 175.574181 211.357979 \nL 181.542096 211.357979 \nL 187.51001 211.924376 \nL 193.477924 212.490774 \nL 199.445839 212.490774 \nL 205.413753 213.057171 \nL 211.381668 213.057171 \nL 217.349582 213.623569 \nL 223.317497 213.623569 \nL 229.285411 214.189966 \nL 235.253326 214.189966 \nL 241.22124 214.189966 \nL 247.189154 214.189966 \nL 253.157069 214.189966 \nL 259.124983 214.756364 \nL 265.092898 214.756364 \nL 271.060812 214.756364 \nL 277.028727 214.756364 \nL 282.996641 214.756364 \nL 288.964555 214.756364 \nL 294.93247 214.756364 \nL 300.900384 214.756364 \nL 306.868299 214.756364 \nL 312.836213 214.756364 \nL 318.804128 214.756364 \nL 324.772042 214.756364 \nL 330.739957 214.756364 \nL 336.707871 214.756364 \nL 342.675785 214.756364 \nL 348.6437 214.756364 \nL 354.611614 214.756364 \nL 360.579529 214.756364 \nL 366.547443 214.756364 \n\" style=\"fill:none;stroke:#1f77b4;stroke-linecap:square;stroke-width:2;\"/>\n   </g>\n   <g id=\"patch_3\">\n    <path d=\"M 46.965625 224.64 \nL 46.965625 7.2 \n\" style=\"fill:none;stroke:#000000;stroke-linecap:square;stroke-linejoin:miter;stroke-width:0.8;\"/>\n   </g>\n   <g id=\"patch_4\">\n    <path d=\"M 381.765625 224.64 \nL 381.765625 7.2 \n\" style=\"fill:none;stroke:#000000;stroke-linecap:square;stroke-linejoin:miter;stroke-width:0.8;\"/>\n   </g>\n   <g id=\"patch_5\">\n    <path d=\"M 46.965625 224.64 \nL 381.765625 224.64 \n\" style=\"fill:none;stroke:#000000;stroke-linecap:square;stroke-linejoin:miter;stroke-width:0.8;\"/>\n   </g>\n   <g id=\"patch_6\">\n    <path d=\"M 46.965625 7.2 \nL 381.765625 7.2 \n\" style=\"fill:none;stroke:#000000;stroke-linecap:square;stroke-linejoin:miter;stroke-width:0.8;\"/>\n   </g>\n  </g>\n </g>\n <defs>\n  <clipPath id=\"pc65b87b26e\">\n   <rect height=\"217.44\" width=\"334.8\" x=\"46.965625\" y=\"7.2\"/>\n  </clipPath>\n </defs>\n</svg>\n",
      "image/png": "[encoded data removed]"
     },
     "metadata": {
      "needs_background": "light"
     }
    },
    {
     "output_type": "execute_result",
     "data": {
      "text/plain": [
       "<AxesSubplot:xlabel='Samples', ylabel='Counts'>"
      ]
     },
     "metadata": {},
     "execution_count": 79
    }
   ],
   "source": [
    "%matplotlib inline\n",
    "\n",
    "t2t_cfd = nltk.ConditionalFreqDist(\n",
    "    (t1[1], t2[1])\n",
    "    for t1, t2 in zip(auto_tagged, hand_tagged)\n",
    "    if t1[1] != t2[1])\n",
    "t2t_cfd['NN'].plot()"
   ]
  },
  {
   "cell_type": "markdown",
   "metadata": {},
   "source": [
    "## State-of-the-art Taggers\n",
    "\n",
    "The http://nlpprogress.com/ website tracks the start-of-the-art (SOTA) performance of many different NLP tasks. For part of speech tagging (http://nlpprogress.com/english/part-of-speech_tagging.html), the top systems get over 97% accuracy. "
   ]
  },
  {
   "cell_type": "code",
   "execution_count": null,
   "metadata": {},
   "outputs": [],
   "source": []
  }
 ],
 "metadata": {
  "kernelspec": {
   "name": "Python 3.8.5 64-bit",
   "display_name": "Python 3.8.5 64-bit",
   "metadata": {
    "interpreter": {
     "hash": "84708403546ecd1e3944b1508f8d5c894da9f0666a04f38efb485e053f6828a8"
    }
   }
  },
  "language_info": {
   "codemirror_mode": {
    "name": "ipython",
    "version": 3
   },
   "file_extension": ".py",
   "mimetype": "text/x-python",
   "name": "python",
   "nbconvert_exporter": "python",
   "pygments_lexer": "ipython3",
   "version": "3.8.5-final"
  }
 },
 "nbformat": 4,
 "nbformat_minor": 2
}