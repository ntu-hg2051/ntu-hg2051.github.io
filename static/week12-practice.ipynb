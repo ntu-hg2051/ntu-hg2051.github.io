{
 "cells": [
  {
   "cell_type": "markdown",
   "metadata": {},
   "source": [
    "# Week 12\n",
    "\n",
    "In this notebook we'll look at language models and using PyDelphin for semantic analysis.\n",
    "\n",
    "Follow along at: https://www.nltk.org/api/nltk.lm.html#module-nltk.lm"
   ]
  },
  {
   "source": [
    "# N-gram language models"
   ],
   "cell_type": "markdown",
   "metadata": {}
  },
  {
   "source": [
    "## Prepare Data\n",
    "\n",
    "Get sentences, add padding, get n-grams. Do this for the "
   ],
   "cell_type": "markdown",
   "metadata": {}
  },
  {
   "cell_type": "code",
   "execution_count": null,
   "metadata": {},
   "outputs": [],
   "source": []
  },
  {
   "source": [
    "## Train \n",
    "\n",
    "Train (\"fit\") the model to a bunch of text from the NLTK corpora (e.g., all/most of Brown or Reuters)."
   ],
   "cell_type": "markdown",
   "metadata": {}
  },
  {
   "cell_type": "code",
   "execution_count": null,
   "metadata": {},
   "outputs": [],
   "source": []
  },
  {
   "source": [
    "## Use the model to score sentences\n",
    "\n",
    "How well does the model score sentences in the same domain? How about other domains, such as a Gutenberg book?"
   ],
   "cell_type": "markdown",
   "metadata": {}
  },
  {
   "cell_type": "code",
   "execution_count": null,
   "metadata": {},
   "outputs": [],
   "source": []
  },
  {
   "source": [
    "## Use the model to predict next words"
   ],
   "cell_type": "markdown",
   "metadata": {}
  },
  {
   "cell_type": "code",
   "execution_count": null,
   "metadata": {},
   "outputs": [],
   "source": []
  },
  {
   "source": [
    "# PyDelphin"
   ],
   "cell_type": "markdown",
   "metadata": {}
  },
  {
   "source": [
    "Install PyDelphin like this: `pip install pydelphin[web]`\n",
    "\n",
    "Now use it to parse a sentence using the English Resource Grammar (through `delphin.web.client`). Documentation is available at: https://pydelphin.readthedocs.io"
   ],
   "cell_type": "markdown",
   "metadata": {}
  },
  {
   "cell_type": "code",
   "execution_count": null,
   "metadata": {},
   "outputs": [],
   "source": []
  }
 ],
 "metadata": {
  "kernelspec": {
   "name": "Python 3.8.5 64-bit",
   "display_name": "Python 3.8.5 64-bit",
   "metadata": {
    "interpreter": {
     "hash": "84708403546ecd1e3944b1508f8d5c894da9f0666a04f38efb485e053f6828a8"
    }
   }
  },
  "language_info": {
   "codemirror_mode": {
    "name": "ipython",
    "version": 3
   },
   "file_extension": ".py",
   "mimetype": "text/x-python",
   "name": "python",
   "nbconvert_exporter": "python",
   "pygments_lexer": "ipython3",
   "version": "3.8.5-final"
  }
 },
 "nbformat": 4,
 "nbformat_minor": 2
}